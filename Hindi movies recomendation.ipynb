{
 "cells": [
  {
   "cell_type": "code",
   "execution_count": 1,
   "id": "dda5f4ba",
   "metadata": {},
   "outputs": [],
   "source": [
    "import numpy as np\n",
    "import pandas as pd\n",
    "import matplotlib.pyplot as plt\n",
    "import seaborn as sns\n",
    "%matplotlib inline"
   ]
  },
  {
   "cell_type": "code",
   "execution_count": 2,
   "id": "70a135a1",
   "metadata": {},
   "outputs": [],
   "source": [
    "import os\n",
    "ddir = r\"D:\\Dataset\\indian movies dataset\\1950-2019\""
   ]
  },
  {
   "cell_type": "code",
   "execution_count": 3,
   "id": "95b6843a",
   "metadata": {},
   "outputs": [],
   "source": [
    "# https://www.kaggle.com/datasets/pncnmnp/the-indian-movie-database"
   ]
  },
  {
   "cell_type": "code",
   "execution_count": 4,
   "id": "ef051cc4",
   "metadata": {},
   "outputs": [
    {
     "data": {
      "text/plain": [
       "['bollywood_crew_1950-2019.csv',\n",
       " 'bollywood_crew_data_1950-2019.csv',\n",
       " 'bollywood_full_1950-2019.csv',\n",
       " 'bollywood_writers_data_1950-2019.csv']"
      ]
     },
     "execution_count": 4,
     "metadata": {},
     "output_type": "execute_result"
    }
   ],
   "source": [
    "os.listdir(ddir)"
   ]
  },
  {
   "cell_type": "code",
   "execution_count": 5,
   "id": "023a9b48",
   "metadata": {},
   "outputs": [
    {
     "data": {
      "text/html": [
       "<div>\n",
       "<style scoped>\n",
       "    .dataframe tbody tr th:only-of-type {\n",
       "        vertical-align: middle;\n",
       "    }\n",
       "\n",
       "    .dataframe tbody tr th {\n",
       "        vertical-align: top;\n",
       "    }\n",
       "\n",
       "    .dataframe thead th {\n",
       "        text-align: right;\n",
       "    }\n",
       "</style>\n",
       "<table border=\"1\" class=\"dataframe\">\n",
       "  <thead>\n",
       "    <tr style=\"text-align: right;\">\n",
       "      <th></th>\n",
       "      <th>title_x</th>\n",
       "      <th>imdb_id</th>\n",
       "      <th>poster_path</th>\n",
       "      <th>wiki_link</th>\n",
       "      <th>title_y</th>\n",
       "      <th>original_title</th>\n",
       "      <th>is_adult</th>\n",
       "      <th>year_of_release</th>\n",
       "      <th>runtime</th>\n",
       "      <th>genres</th>\n",
       "      <th>imdb_rating</th>\n",
       "      <th>imdb_votes</th>\n",
       "      <th>story</th>\n",
       "      <th>summary</th>\n",
       "      <th>tagline</th>\n",
       "      <th>actors</th>\n",
       "      <th>wins_nominations</th>\n",
       "      <th>release_date</th>\n",
       "    </tr>\n",
       "  </thead>\n",
       "  <tbody>\n",
       "    <tr>\n",
       "      <th>0</th>\n",
       "      <td>Uri: The Surgical Strike</td>\n",
       "      <td>tt8291224</td>\n",
       "      <td>https://upload.wikimedia.org/wikipedia/en/thum...</td>\n",
       "      <td>https://en.wikipedia.org/wiki/Uri:_The_Surgica...</td>\n",
       "      <td>Uri: The Surgical Strike</td>\n",
       "      <td>Uri: The Surgical Strike</td>\n",
       "      <td>0</td>\n",
       "      <td>2019</td>\n",
       "      <td>138</td>\n",
       "      <td>Action|Drama|War</td>\n",
       "      <td>8.4</td>\n",
       "      <td>35112.0</td>\n",
       "      <td>Divided over five chapters  the film chronicle...</td>\n",
       "      <td>Indian army special forces execute a covert op...</td>\n",
       "      <td>NaN</td>\n",
       "      <td>Vicky Kaushal|Paresh Rawal|Mohit Raina|Yami Ga...</td>\n",
       "      <td>4 wins</td>\n",
       "      <td>11 January 2019 (USA)</td>\n",
       "    </tr>\n",
       "  </tbody>\n",
       "</table>\n",
       "</div>"
      ],
      "text/plain": [
       "                    title_x    imdb_id  \\\n",
       "0  Uri: The Surgical Strike  tt8291224   \n",
       "\n",
       "                                         poster_path  \\\n",
       "0  https://upload.wikimedia.org/wikipedia/en/thum...   \n",
       "\n",
       "                                           wiki_link  \\\n",
       "0  https://en.wikipedia.org/wiki/Uri:_The_Surgica...   \n",
       "\n",
       "                    title_y            original_title  is_adult  \\\n",
       "0  Uri: The Surgical Strike  Uri: The Surgical Strike         0   \n",
       "\n",
       "  year_of_release runtime            genres  imdb_rating  imdb_votes  \\\n",
       "0            2019     138  Action|Drama|War          8.4     35112.0   \n",
       "\n",
       "                                               story  \\\n",
       "0  Divided over five chapters  the film chronicle...   \n",
       "\n",
       "                                             summary tagline  \\\n",
       "0  Indian army special forces execute a covert op...     NaN   \n",
       "\n",
       "                                              actors wins_nominations  \\\n",
       "0  Vicky Kaushal|Paresh Rawal|Mohit Raina|Yami Ga...           4 wins   \n",
       "\n",
       "            release_date  \n",
       "0  11 January 2019 (USA)  "
      ]
     },
     "execution_count": 5,
     "metadata": {},
     "output_type": "execute_result"
    }
   ],
   "source": [
    "pt = os.path.join(ddir, 'bollywood_full_1950-2019.csv')\n",
    "df = pd.read_csv(pt)\n",
    "df.head(1)"
   ]
  },
  {
   "cell_type": "code",
   "execution_count": 6,
   "id": "0d6b0315",
   "metadata": {},
   "outputs": [
    {
     "data": {
      "text/plain": [
       "(4330, 18)"
      ]
     },
     "execution_count": 6,
     "metadata": {},
     "output_type": "execute_result"
    }
   ],
   "source": [
    "df.shape"
   ]
  },
  {
   "cell_type": "code",
   "execution_count": 7,
   "id": "d416b6ea",
   "metadata": {},
   "outputs": [],
   "source": [
    "list_year = []\n",
    "def return_year(row) : \n",
    "    try : \n",
    "        if int(row['year_of_release']) >= 2000 : \n",
    "            list_year.append(row.name)\n",
    "    except : \n",
    "        print(\"wrong\")"
   ]
  },
  {
   "cell_type": "code",
   "execution_count": 8,
   "id": "d9852859",
   "metadata": {},
   "outputs": [
    {
     "name": "stdout",
     "output_type": "stream",
     "text": [
      "wrong\n",
      "wrong\n"
     ]
    },
    {
     "data": {
      "text/plain": [
       "0       None\n",
       "1       None\n",
       "2       None\n",
       "3       None\n",
       "4       None\n",
       "        ... \n",
       "4325    None\n",
       "4326    None\n",
       "4327    None\n",
       "4328    None\n",
       "4329    None\n",
       "Length: 4330, dtype: object"
      ]
     },
     "execution_count": 8,
     "metadata": {},
     "output_type": "execute_result"
    }
   ],
   "source": [
    "df.apply(return_year, axis = 1)"
   ]
  },
  {
   "cell_type": "code",
   "execution_count": 9,
   "id": "de39f544",
   "metadata": {},
   "outputs": [
    {
     "data": {
      "text/plain": [
       "1687"
      ]
     },
     "execution_count": 9,
     "metadata": {},
     "output_type": "execute_result"
    }
   ],
   "source": [
    "len(list_year)"
   ]
  },
  {
   "cell_type": "code",
   "execution_count": 10,
   "id": "35d824e9",
   "metadata": {
    "scrolled": true
   },
   "outputs": [],
   "source": [
    "df = df.iloc[list_year, :]"
   ]
  },
  {
   "cell_type": "code",
   "execution_count": 11,
   "id": "a09443cc",
   "metadata": {},
   "outputs": [
    {
     "data": {
      "text/plain": [
       "(1687, 18)"
      ]
     },
     "execution_count": 11,
     "metadata": {},
     "output_type": "execute_result"
    }
   ],
   "source": [
    "df.shape"
   ]
  },
  {
   "cell_type": "code",
   "execution_count": 12,
   "id": "13b86e4e",
   "metadata": {},
   "outputs": [
    {
     "data": {
      "text/plain": [
       "title_x                0\n",
       "imdb_id                0\n",
       "poster_path          111\n",
       "wiki_link              0\n",
       "title_y                0\n",
       "original_title         0\n",
       "is_adult               0\n",
       "year_of_release        0\n",
       "runtime                0\n",
       "genres                 0\n",
       "imdb_rating           12\n",
       "imdb_votes            12\n",
       "story                 20\n",
       "summary                0\n",
       "tagline             1106\n",
       "actors                 5\n",
       "wins_nominations     954\n",
       "release_date         113\n",
       "dtype: int64"
      ]
     },
     "execution_count": 12,
     "metadata": {},
     "output_type": "execute_result"
    }
   ],
   "source": [
    "df.isnull().sum()"
   ]
  },
  {
   "cell_type": "code",
   "execution_count": 13,
   "id": "1a9f0636",
   "metadata": {},
   "outputs": [
    {
     "data": {
      "text/plain": [
       "843"
      ]
     },
     "execution_count": 13,
     "metadata": {},
     "output_type": "execute_result"
    }
   ],
   "source": [
    "df.shape[0]//2"
   ]
  },
  {
   "cell_type": "code",
   "execution_count": 14,
   "id": "dbd57fa7",
   "metadata": {},
   "outputs": [
    {
     "data": {
      "text/html": [
       "<div>\n",
       "<style scoped>\n",
       "    .dataframe tbody tr th:only-of-type {\n",
       "        vertical-align: middle;\n",
       "    }\n",
       "\n",
       "    .dataframe tbody tr th {\n",
       "        vertical-align: top;\n",
       "    }\n",
       "\n",
       "    .dataframe thead th {\n",
       "        text-align: right;\n",
       "    }\n",
       "</style>\n",
       "<table border=\"1\" class=\"dataframe\">\n",
       "  <thead>\n",
       "    <tr style=\"text-align: right;\">\n",
       "      <th></th>\n",
       "      <th>title_x</th>\n",
       "      <th>imdb_id</th>\n",
       "      <th>poster_path</th>\n",
       "      <th>wiki_link</th>\n",
       "      <th>title_y</th>\n",
       "      <th>original_title</th>\n",
       "      <th>is_adult</th>\n",
       "      <th>year_of_release</th>\n",
       "      <th>runtime</th>\n",
       "      <th>genres</th>\n",
       "      <th>imdb_rating</th>\n",
       "      <th>imdb_votes</th>\n",
       "      <th>story</th>\n",
       "      <th>summary</th>\n",
       "      <th>tagline</th>\n",
       "      <th>actors</th>\n",
       "      <th>wins_nominations</th>\n",
       "      <th>release_date</th>\n",
       "    </tr>\n",
       "  </thead>\n",
       "  <tbody>\n",
       "    <tr>\n",
       "      <th>998</th>\n",
       "      <td>Sirf (film)</td>\n",
       "      <td>tt1224454</td>\n",
       "      <td>https://upload.wikimedia.org/wikipedia/en/thum...</td>\n",
       "      <td>https://en.wikipedia.org/wiki/Sirf_(film)</td>\n",
       "      <td>Sirf....: Life Looks Greener on the Other Side</td>\n",
       "      <td>Sirf....: Life Looks Greener on the Other Side</td>\n",
       "      <td>0</td>\n",
       "      <td>2008</td>\n",
       "      <td>135</td>\n",
       "      <td>Drama</td>\n",
       "      <td>6.0</td>\n",
       "      <td>88.0</td>\n",
       "      <td>An Assistant Director in Bollywood  Rahul Baja...</td>\n",
       "      <td>An Assistant Director in Bollywood  Rahul Baja...</td>\n",
       "      <td>Life looks greener on the other side</td>\n",
       "      <td>Kay Kay Menon|Manisha Koirala|Ranvir Shorey|So...</td>\n",
       "      <td>NaN</td>\n",
       "      <td>25 April 2008 (India)</td>\n",
       "    </tr>\n",
       "  </tbody>\n",
       "</table>\n",
       "</div>"
      ],
      "text/plain": [
       "         title_x    imdb_id  \\\n",
       "998  Sirf (film)  tt1224454   \n",
       "\n",
       "                                           poster_path  \\\n",
       "998  https://upload.wikimedia.org/wikipedia/en/thum...   \n",
       "\n",
       "                                     wiki_link  \\\n",
       "998  https://en.wikipedia.org/wiki/Sirf_(film)   \n",
       "\n",
       "                                            title_y  \\\n",
       "998  Sirf....: Life Looks Greener on the Other Side   \n",
       "\n",
       "                                     original_title  is_adult year_of_release  \\\n",
       "998  Sirf....: Life Looks Greener on the Other Side         0            2008   \n",
       "\n",
       "    runtime genres  imdb_rating  imdb_votes  \\\n",
       "998     135  Drama          6.0        88.0   \n",
       "\n",
       "                                                 story  \\\n",
       "998  An Assistant Director in Bollywood  Rahul Baja...   \n",
       "\n",
       "                                               summary  \\\n",
       "998  An Assistant Director in Bollywood  Rahul Baja...   \n",
       "\n",
       "                                  tagline  \\\n",
       "998  Life looks greener on the other side   \n",
       "\n",
       "                                                actors wins_nominations  \\\n",
       "998  Kay Kay Menon|Manisha Koirala|Ranvir Shorey|So...              NaN   \n",
       "\n",
       "              release_date  \n",
       "998  25 April 2008 (India)  "
      ]
     },
     "execution_count": 14,
     "metadata": {},
     "output_type": "execute_result"
    }
   ],
   "source": [
    "df.sample()"
   ]
  },
  {
   "cell_type": "code",
   "execution_count": 19,
   "id": "d8143577",
   "metadata": {},
   "outputs": [],
   "source": [
    "# Important Feature in which we are try to recomend\n",
    "# poster_path\n",
    "# wiki_link\n",
    "# original_title\n",
    "# genres\n",
    "# imdb_rating\n",
    "# imdb_votes\n",
    "# story\n",
    "# summary\n",
    "# actors"
   ]
  },
  {
   "cell_type": "code",
   "execution_count": 38,
   "id": "9a5f99b7",
   "metadata": {},
   "outputs": [
    {
     "data": {
      "text/html": [
       "<div>\n",
       "<style scoped>\n",
       "    .dataframe tbody tr th:only-of-type {\n",
       "        vertical-align: middle;\n",
       "    }\n",
       "\n",
       "    .dataframe tbody tr th {\n",
       "        vertical-align: top;\n",
       "    }\n",
       "\n",
       "    .dataframe thead th {\n",
       "        text-align: right;\n",
       "    }\n",
       "</style>\n",
       "<table border=\"1\" class=\"dataframe\">\n",
       "  <thead>\n",
       "    <tr style=\"text-align: right;\">\n",
       "      <th></th>\n",
       "      <th>poster_path</th>\n",
       "      <th>wiki_link</th>\n",
       "      <th>original_title</th>\n",
       "      <th>genres</th>\n",
       "      <th>imdb_rating</th>\n",
       "      <th>imdb_votes</th>\n",
       "      <th>story</th>\n",
       "      <th>summary</th>\n",
       "      <th>actors</th>\n",
       "    </tr>\n",
       "  </thead>\n",
       "  <tbody>\n",
       "    <tr>\n",
       "      <th>0</th>\n",
       "      <td>https://upload.wikimedia.org/wikipedia/en/thum...</td>\n",
       "      <td>https://en.wikipedia.org/wiki/Uri:_The_Surgica...</td>\n",
       "      <td>Uri: The Surgical Strike</td>\n",
       "      <td>Action|Drama|War</td>\n",
       "      <td>8.4</td>\n",
       "      <td>35112.0</td>\n",
       "      <td>Divided over five chapters  the film chronicle...</td>\n",
       "      <td>Indian army special forces execute a covert op...</td>\n",
       "      <td>Vicky Kaushal|Paresh Rawal|Mohit Raina|Yami Ga...</td>\n",
       "    </tr>\n",
       "  </tbody>\n",
       "</table>\n",
       "</div>"
      ],
      "text/plain": [
       "                                         poster_path  \\\n",
       "0  https://upload.wikimedia.org/wikipedia/en/thum...   \n",
       "\n",
       "                                           wiki_link  \\\n",
       "0  https://en.wikipedia.org/wiki/Uri:_The_Surgica...   \n",
       "\n",
       "             original_title            genres  imdb_rating  imdb_votes  \\\n",
       "0  Uri: The Surgical Strike  Action|Drama|War          8.4     35112.0   \n",
       "\n",
       "                                               story  \\\n",
       "0  Divided over five chapters  the film chronicle...   \n",
       "\n",
       "                                             summary  \\\n",
       "0  Indian army special forces execute a covert op...   \n",
       "\n",
       "                                              actors  \n",
       "0  Vicky Kaushal|Paresh Rawal|Mohit Raina|Yami Ga...  "
      ]
     },
     "execution_count": 38,
     "metadata": {},
     "output_type": "execute_result"
    }
   ],
   "source": [
    "df_movie = df[['poster_path', 'wiki_link', 'original_title', 'genres', 'imdb_rating', 'imdb_votes', 'story', 'summary', 'actors']].copy()\n",
    "df_movie.head(1)"
   ]
  },
  {
   "cell_type": "code",
   "execution_count": 39,
   "id": "7646073b",
   "metadata": {},
   "outputs": [
    {
     "data": {
      "text/plain": [
       "poster_path       111\n",
       "wiki_link           0\n",
       "original_title      0\n",
       "genres              0\n",
       "imdb_rating        12\n",
       "imdb_votes         12\n",
       "story              20\n",
       "summary             0\n",
       "actors              5\n",
       "dtype: int64"
      ]
     },
     "execution_count": 39,
     "metadata": {},
     "output_type": "execute_result"
    }
   ],
   "source": [
    "df_movie.isnull().sum()"
   ]
  },
  {
   "cell_type": "code",
   "execution_count": 40,
   "id": "475f10f6",
   "metadata": {},
   "outputs": [],
   "source": [
    "df_movie.dropna(subset=['poster_path'], inplace=True)"
   ]
  },
  {
   "cell_type": "code",
   "execution_count": 41,
   "id": "1aae6aeb",
   "metadata": {},
   "outputs": [
    {
     "data": {
      "text/plain": [
       "0"
      ]
     },
     "execution_count": 41,
     "metadata": {},
     "output_type": "execute_result"
    }
   ],
   "source": [
    "df_movie.duplicated().sum()"
   ]
  },
  {
   "cell_type": "code",
   "execution_count": 42,
   "id": "08f45a39",
   "metadata": {},
   "outputs": [
    {
     "data": {
      "text/plain": [
       "poster_path        0\n",
       "wiki_link          0\n",
       "original_title     0\n",
       "genres             0\n",
       "imdb_rating        9\n",
       "imdb_votes         9\n",
       "story             15\n",
       "summary            0\n",
       "actors             2\n",
       "dtype: int64"
      ]
     },
     "execution_count": 42,
     "metadata": {},
     "output_type": "execute_result"
    }
   ],
   "source": [
    "df_movie.isnull().sum()"
   ]
  },
  {
   "cell_type": "code",
   "execution_count": 43,
   "id": "acf8fd6d",
   "metadata": {},
   "outputs": [
    {
     "name": "stdout",
     "output_type": "stream",
     "text": [
      "<class 'pandas.core.frame.DataFrame'>\n",
      "Int64Index: 1576 entries, 0 to 4269\n",
      "Data columns (total 9 columns):\n",
      " #   Column          Non-Null Count  Dtype  \n",
      "---  ------          --------------  -----  \n",
      " 0   poster_path     1576 non-null   object \n",
      " 1   wiki_link       1576 non-null   object \n",
      " 2   original_title  1576 non-null   object \n",
      " 3   genres          1576 non-null   object \n",
      " 4   imdb_rating     1567 non-null   float64\n",
      " 5   imdb_votes      1567 non-null   float64\n",
      " 6   story           1561 non-null   object \n",
      " 7   summary         1576 non-null   object \n",
      " 8   actors          1574 non-null   object \n",
      "dtypes: float64(2), object(7)\n",
      "memory usage: 123.1+ KB\n"
     ]
    }
   ],
   "source": [
    "df_movie.info()"
   ]
  },
  {
   "cell_type": "code",
   "execution_count": 44,
   "id": "2ab9e9d2",
   "metadata": {},
   "outputs": [],
   "source": [
    "df_movie['imdb_rating'] = df_movie['imdb_rating'].fillna(0)"
   ]
  },
  {
   "cell_type": "code",
   "execution_count": 45,
   "id": "b7206db9",
   "metadata": {},
   "outputs": [],
   "source": [
    "df_movie['imdb_votes'] = df_movie['imdb_votes'].fillna(0)"
   ]
  },
  {
   "cell_type": "code",
   "execution_count": 46,
   "id": "5bb20f53",
   "metadata": {},
   "outputs": [
    {
     "data": {
      "text/plain": [
       "poster_path        0\n",
       "wiki_link          0\n",
       "original_title     0\n",
       "genres             0\n",
       "imdb_rating        0\n",
       "imdb_votes         0\n",
       "story             15\n",
       "summary            0\n",
       "actors             2\n",
       "dtype: int64"
      ]
     },
     "execution_count": 46,
     "metadata": {},
     "output_type": "execute_result"
    }
   ],
   "source": [
    "df_movie.isnull().sum()"
   ]
  },
  {
   "cell_type": "code",
   "execution_count": 48,
   "id": "d30779f0",
   "metadata": {},
   "outputs": [],
   "source": [
    "df_movie.fillna(\"\", inplace = True)"
   ]
  },
  {
   "cell_type": "code",
   "execution_count": 49,
   "id": "e1d1d681",
   "metadata": {},
   "outputs": [
    {
     "data": {
      "text/plain": [
       "poster_path       0\n",
       "wiki_link         0\n",
       "original_title    0\n",
       "genres            0\n",
       "imdb_rating       0\n",
       "imdb_votes        0\n",
       "story             0\n",
       "summary           0\n",
       "actors            0\n",
       "dtype: int64"
      ]
     },
     "execution_count": 49,
     "metadata": {},
     "output_type": "execute_result"
    }
   ],
   "source": [
    "df_movie.isnull().sum()"
   ]
  },
  {
   "cell_type": "code",
   "execution_count": 50,
   "id": "ea5bb356",
   "metadata": {},
   "outputs": [],
   "source": [
    "df_movie.reset_index(drop = True, inplace=True)"
   ]
  },
  {
   "cell_type": "code",
   "execution_count": 53,
   "id": "c28a6e1e",
   "metadata": {},
   "outputs": [
    {
     "data": {
      "text/plain": [
       "(1576, 9)"
      ]
     },
     "execution_count": 53,
     "metadata": {},
     "output_type": "execute_result"
    }
   ],
   "source": [
    "df_movie.shape"
   ]
  },
  {
   "cell_type": "code",
   "execution_count": 65,
   "id": "9f096380",
   "metadata": {},
   "outputs": [
    {
     "data": {
      "text/html": [
       "<div>\n",
       "<style scoped>\n",
       "    .dataframe tbody tr th:only-of-type {\n",
       "        vertical-align: middle;\n",
       "    }\n",
       "\n",
       "    .dataframe tbody tr th {\n",
       "        vertical-align: top;\n",
       "    }\n",
       "\n",
       "    .dataframe thead th {\n",
       "        text-align: right;\n",
       "    }\n",
       "</style>\n",
       "<table border=\"1\" class=\"dataframe\">\n",
       "  <thead>\n",
       "    <tr style=\"text-align: right;\">\n",
       "      <th></th>\n",
       "      <th>poster_path</th>\n",
       "      <th>wiki_link</th>\n",
       "      <th>original_title</th>\n",
       "      <th>genres</th>\n",
       "      <th>imdb_rating</th>\n",
       "      <th>imdb_votes</th>\n",
       "      <th>story</th>\n",
       "      <th>summary</th>\n",
       "      <th>actors</th>\n",
       "    </tr>\n",
       "  </thead>\n",
       "  <tbody>\n",
       "    <tr>\n",
       "      <th>0</th>\n",
       "      <td>https://upload.wikimedia.org/wikipedia/en/thum...</td>\n",
       "      <td>https://en.wikipedia.org/wiki/Uri:_The_Surgica...</td>\n",
       "      <td>Uri: The Surgical Strike</td>\n",
       "      <td>Action|Drama|War</td>\n",
       "      <td>8.4</td>\n",
       "      <td>35112.0</td>\n",
       "      <td>Divided over five chapters  the film chronicle...</td>\n",
       "      <td>Indian army special forces execute a covert op...</td>\n",
       "      <td>Vicky Kaushal|Paresh Rawal|Mohit Raina|Yami Ga...</td>\n",
       "    </tr>\n",
       "    <tr>\n",
       "      <th>1</th>\n",
       "      <td>https://upload.wikimedia.org/wikipedia/en/thum...</td>\n",
       "      <td>https://en.wikipedia.org/wiki/The_Accidental_P...</td>\n",
       "      <td>The Accidental Prime Minister</td>\n",
       "      <td>Biography|Drama</td>\n",
       "      <td>6.1</td>\n",
       "      <td>5549.0</td>\n",
       "      <td>Based on the memoir by Indian policy analyst S...</td>\n",
       "      <td>Explores Manmohan Singh's tenure as the Prime ...</td>\n",
       "      <td>Anupam Kher|Akshaye Khanna|Aahana Kumra|Atul S...</td>\n",
       "    </tr>\n",
       "    <tr>\n",
       "      <th>2</th>\n",
       "      <td>https://upload.wikimedia.org/wikipedia/en/thum...</td>\n",
       "      <td>https://en.wikipedia.org/wiki/Why_Cheat_India</td>\n",
       "      <td>Why Cheat India</td>\n",
       "      <td>Crime|Drama</td>\n",
       "      <td>6.0</td>\n",
       "      <td>1891.0</td>\n",
       "      <td>The movie focuses on existing malpractices in ...</td>\n",
       "      <td>The movie focuses on existing malpractices in ...</td>\n",
       "      <td>Emraan Hashmi|Shreya Dhanwanthary|Snighdadeep ...</td>\n",
       "    </tr>\n",
       "    <tr>\n",
       "      <th>3</th>\n",
       "      <td>https://upload.wikimedia.org/wikipedia/en/thum...</td>\n",
       "      <td>https://en.wikipedia.org/wiki/Soni_(film)</td>\n",
       "      <td>Soni</td>\n",
       "      <td>Drama</td>\n",
       "      <td>7.2</td>\n",
       "      <td>1595.0</td>\n",
       "      <td>Soni  a young policewoman in Delhi  and her su...</td>\n",
       "      <td>While fighting crimes against women in Delhi  ...</td>\n",
       "      <td>Geetika Vidya Ohlyan|Saloni Batra|Vikas Shukla...</td>\n",
       "    </tr>\n",
       "    <tr>\n",
       "      <th>4</th>\n",
       "      <td>https://upload.wikimedia.org/wikipedia/en/thum...</td>\n",
       "      <td>https://en.wikipedia.org/wiki/Fraud_Saiyaan</td>\n",
       "      <td>Fraud Saiyyan</td>\n",
       "      <td>Comedy|Drama</td>\n",
       "      <td>4.2</td>\n",
       "      <td>504.0</td>\n",
       "      <td>Fraud Saiyyan is the story of a con artist in ...</td>\n",
       "      <td>Fraud Saiyyan is the story of a con artist in ...</td>\n",
       "      <td>Arshad Warsi|Saurabh Shukla|Flora Saini|Sara L...</td>\n",
       "    </tr>\n",
       "  </tbody>\n",
       "</table>\n",
       "</div>"
      ],
      "text/plain": [
       "                                         poster_path  \\\n",
       "0  https://upload.wikimedia.org/wikipedia/en/thum...   \n",
       "1  https://upload.wikimedia.org/wikipedia/en/thum...   \n",
       "2  https://upload.wikimedia.org/wikipedia/en/thum...   \n",
       "3  https://upload.wikimedia.org/wikipedia/en/thum...   \n",
       "4  https://upload.wikimedia.org/wikipedia/en/thum...   \n",
       "\n",
       "                                           wiki_link  \\\n",
       "0  https://en.wikipedia.org/wiki/Uri:_The_Surgica...   \n",
       "1  https://en.wikipedia.org/wiki/The_Accidental_P...   \n",
       "2      https://en.wikipedia.org/wiki/Why_Cheat_India   \n",
       "3          https://en.wikipedia.org/wiki/Soni_(film)   \n",
       "4        https://en.wikipedia.org/wiki/Fraud_Saiyaan   \n",
       "\n",
       "                  original_title            genres  imdb_rating  imdb_votes  \\\n",
       "0       Uri: The Surgical Strike  Action|Drama|War          8.4     35112.0   \n",
       "1  The Accidental Prime Minister   Biography|Drama          6.1      5549.0   \n",
       "2                Why Cheat India       Crime|Drama          6.0      1891.0   \n",
       "3                           Soni             Drama          7.2      1595.0   \n",
       "4                  Fraud Saiyyan      Comedy|Drama          4.2       504.0   \n",
       "\n",
       "                                               story  \\\n",
       "0  Divided over five chapters  the film chronicle...   \n",
       "1  Based on the memoir by Indian policy analyst S...   \n",
       "2  The movie focuses on existing malpractices in ...   \n",
       "3  Soni  a young policewoman in Delhi  and her su...   \n",
       "4  Fraud Saiyyan is the story of a con artist in ...   \n",
       "\n",
       "                                             summary  \\\n",
       "0  Indian army special forces execute a covert op...   \n",
       "1  Explores Manmohan Singh's tenure as the Prime ...   \n",
       "2  The movie focuses on existing malpractices in ...   \n",
       "3  While fighting crimes against women in Delhi  ...   \n",
       "4  Fraud Saiyyan is the story of a con artist in ...   \n",
       "\n",
       "                                              actors  \n",
       "0  Vicky Kaushal|Paresh Rawal|Mohit Raina|Yami Ga...  \n",
       "1  Anupam Kher|Akshaye Khanna|Aahana Kumra|Atul S...  \n",
       "2  Emraan Hashmi|Shreya Dhanwanthary|Snighdadeep ...  \n",
       "3  Geetika Vidya Ohlyan|Saloni Batra|Vikas Shukla...  \n",
       "4  Arshad Warsi|Saurabh Shukla|Flora Saini|Sara L...  "
      ]
     },
     "execution_count": 65,
     "metadata": {},
     "output_type": "execute_result"
    }
   ],
   "source": [
    "df_movie.head()"
   ]
  },
  {
   "cell_type": "code",
   "execution_count": 63,
   "id": "2a33465b",
   "metadata": {},
   "outputs": [
    {
     "data": {
      "text/html": [
       "<div>\n",
       "<style scoped>\n",
       "    .dataframe tbody tr th:only-of-type {\n",
       "        vertical-align: middle;\n",
       "    }\n",
       "\n",
       "    .dataframe tbody tr th {\n",
       "        vertical-align: top;\n",
       "    }\n",
       "\n",
       "    .dataframe thead th {\n",
       "        text-align: right;\n",
       "    }\n",
       "</style>\n",
       "<table border=\"1\" class=\"dataframe\">\n",
       "  <thead>\n",
       "    <tr style=\"text-align: right;\">\n",
       "      <th></th>\n",
       "      <th>imdb_rating</th>\n",
       "      <th>imdb_votes</th>\n",
       "    </tr>\n",
       "  </thead>\n",
       "  <tbody>\n",
       "    <tr>\n",
       "      <th>count</th>\n",
       "      <td>1576.00000</td>\n",
       "      <td>1576.000000</td>\n",
       "    </tr>\n",
       "    <tr>\n",
       "      <th>mean</th>\n",
       "      <td>5.53198</td>\n",
       "      <td>5530.717640</td>\n",
       "    </tr>\n",
       "    <tr>\n",
       "      <th>std</th>\n",
       "      <td>1.60550</td>\n",
       "      <td>14539.922663</td>\n",
       "    </tr>\n",
       "    <tr>\n",
       "      <th>min</th>\n",
       "      <td>0.00000</td>\n",
       "      <td>0.000000</td>\n",
       "    </tr>\n",
       "    <tr>\n",
       "      <th>25%</th>\n",
       "      <td>4.40000</td>\n",
       "      <td>275.750000</td>\n",
       "    </tr>\n",
       "    <tr>\n",
       "      <th>50%</th>\n",
       "      <td>5.60000</td>\n",
       "      <td>1119.000000</td>\n",
       "    </tr>\n",
       "    <tr>\n",
       "      <th>75%</th>\n",
       "      <td>6.80000</td>\n",
       "      <td>4573.000000</td>\n",
       "    </tr>\n",
       "    <tr>\n",
       "      <th>max</th>\n",
       "      <td>9.40000</td>\n",
       "      <td>310481.000000</td>\n",
       "    </tr>\n",
       "  </tbody>\n",
       "</table>\n",
       "</div>"
      ],
      "text/plain": [
       "       imdb_rating     imdb_votes\n",
       "count   1576.00000    1576.000000\n",
       "mean       5.53198    5530.717640\n",
       "std        1.60550   14539.922663\n",
       "min        0.00000       0.000000\n",
       "25%        4.40000     275.750000\n",
       "50%        5.60000    1119.000000\n",
       "75%        6.80000    4573.000000\n",
       "max        9.40000  310481.000000"
      ]
     },
     "execution_count": 63,
     "metadata": {},
     "output_type": "execute_result"
    }
   ],
   "source": [
    "df_movie.describe()"
   ]
  },
  {
   "cell_type": "code",
   "execution_count": 66,
   "id": "f1473c28",
   "metadata": {},
   "outputs": [],
   "source": [
    "# df_movie['rating_txt'] = \n",
    "df_movie['rating_txt'] = df_movie['imdb_rating'].apply(lambda x : 'low_rating' if x <= 4.4 else 'medium_rating' if x > 4.4 and x <= 5.6 else 'high_rating' if x <= 6.8 and x > 5.6 else 'very_high_rating' )\n",
    "df_movie['votes_txt'] = df_movie['imdb_votes'].apply(lambda x : 'low_votes' if x <= 276 else 'medium_votes' if x > 276 and x <= 1119 else 'high_votes' if x <= 4573 and x > 1119 else 'very_high_votes' )"
   ]
  },
  {
   "cell_type": "code",
   "execution_count": 67,
   "id": "d3223b73",
   "metadata": {},
   "outputs": [
    {
     "data": {
      "text/html": [
       "<div>\n",
       "<style scoped>\n",
       "    .dataframe tbody tr th:only-of-type {\n",
       "        vertical-align: middle;\n",
       "    }\n",
       "\n",
       "    .dataframe tbody tr th {\n",
       "        vertical-align: top;\n",
       "    }\n",
       "\n",
       "    .dataframe thead th {\n",
       "        text-align: right;\n",
       "    }\n",
       "</style>\n",
       "<table border=\"1\" class=\"dataframe\">\n",
       "  <thead>\n",
       "    <tr style=\"text-align: right;\">\n",
       "      <th></th>\n",
       "      <th>poster_path</th>\n",
       "      <th>wiki_link</th>\n",
       "      <th>original_title</th>\n",
       "      <th>genres</th>\n",
       "      <th>imdb_rating</th>\n",
       "      <th>imdb_votes</th>\n",
       "      <th>story</th>\n",
       "      <th>summary</th>\n",
       "      <th>actors</th>\n",
       "      <th>rating_txt</th>\n",
       "      <th>votes_txt</th>\n",
       "    </tr>\n",
       "  </thead>\n",
       "  <tbody>\n",
       "    <tr>\n",
       "      <th>1258</th>\n",
       "      <td>https://upload.wikimedia.org/wikipedia/en/thum...</td>\n",
       "      <td>https://en.wikipedia.org/wiki/Hulchul_(2004_film)</td>\n",
       "      <td>Hulchul</td>\n",
       "      <td>Action|Comedy|Drama</td>\n",
       "      <td>6.9</td>\n",
       "      <td>5779.0</td>\n",
       "      <td>Angar Chand lives a wealthy lifestyle in a sma...</td>\n",
       "      <td>A man and woman from feuding families each pre...</td>\n",
       "      <td>Akshaye Khanna|Kareena Kapoor|Sunil Shetty|Par...</td>\n",
       "      <td>very_high_rating</td>\n",
       "      <td>very_high_votes</td>\n",
       "    </tr>\n",
       "  </tbody>\n",
       "</table>\n",
       "</div>"
      ],
      "text/plain": [
       "                                            poster_path  \\\n",
       "1258  https://upload.wikimedia.org/wikipedia/en/thum...   \n",
       "\n",
       "                                              wiki_link original_title  \\\n",
       "1258  https://en.wikipedia.org/wiki/Hulchul_(2004_film)        Hulchul   \n",
       "\n",
       "                   genres  imdb_rating  imdb_votes  \\\n",
       "1258  Action|Comedy|Drama          6.9      5779.0   \n",
       "\n",
       "                                                  story  \\\n",
       "1258  Angar Chand lives a wealthy lifestyle in a sma...   \n",
       "\n",
       "                                                summary  \\\n",
       "1258  A man and woman from feuding families each pre...   \n",
       "\n",
       "                                                 actors        rating_txt  \\\n",
       "1258  Akshaye Khanna|Kareena Kapoor|Sunil Shetty|Par...  very_high_rating   \n",
       "\n",
       "            votes_txt  \n",
       "1258  very_high_votes  "
      ]
     },
     "execution_count": 67,
     "metadata": {},
     "output_type": "execute_result"
    }
   ],
   "source": [
    "df_movie.sample()"
   ]
  },
  {
   "cell_type": "code",
   "execution_count": 68,
   "id": "9bf7f868",
   "metadata": {},
   "outputs": [
    {
     "data": {
      "text/plain": [
       "(0.0, 310481.0)"
      ]
     },
     "execution_count": 68,
     "metadata": {},
     "output_type": "execute_result"
    }
   ],
   "source": [
    "df_movie['imdb_votes'].min(), df_movie['imdb_votes'].max()"
   ]
  },
  {
   "cell_type": "code",
   "execution_count": 69,
   "id": "2f62ac42",
   "metadata": {},
   "outputs": [
    {
     "data": {
      "text/plain": [
       "'Divided over five chapters  the film chronicles the events of the surgical strike conducted by the Indian military against suspected militants in Pakistan occupied Kashmir. It tells the story of the 11 tumultuous events over which the operation was carried out. Indian army special forces carry out a covert operation to avenge the killing of fellow army men at their base by a terrorist group.'"
      ]
     },
     "execution_count": 69,
     "metadata": {},
     "output_type": "execute_result"
    }
   ],
   "source": [
    "df_movie['story'].values[0]"
   ]
  },
  {
   "cell_type": "code",
   "execution_count": 70,
   "id": "7a078bc2",
   "metadata": {},
   "outputs": [
    {
     "data": {
      "text/plain": [
       "'Action Drama War'"
      ]
     },
     "execution_count": 70,
     "metadata": {},
     "output_type": "execute_result"
    }
   ],
   "source": [
    "\" \".join(df_movie['genres'].values[0].split(\"|\"))"
   ]
  },
  {
   "cell_type": "code",
   "execution_count": 71,
   "id": "14fde992",
   "metadata": {},
   "outputs": [
    {
     "data": {
      "text/plain": [
       "['Vicky Kaushal',\n",
       " 'Paresh Rawal',\n",
       " 'Mohit Raina',\n",
       " 'Yami Gautam',\n",
       " 'Kirti Kulhari']"
      ]
     },
     "execution_count": 71,
     "metadata": {},
     "output_type": "execute_result"
    }
   ],
   "source": [
    "df_movie['actors'].values[0].split(\"|\")[:5]"
   ]
  },
  {
   "cell_type": "code",
   "execution_count": 72,
   "id": "96ab4cfe",
   "metadata": {},
   "outputs": [
    {
     "data": {
      "text/plain": [
       "['hello hi', 'how', 'are', 'you']"
      ]
     },
     "execution_count": 72,
     "metadata": {},
     "output_type": "execute_result"
    }
   ],
   "source": [
    "ac5 = \"hello hi|how|are|you\".split(\"|\")[:5]\n",
    "ac5"
   ]
  },
  {
   "cell_type": "code",
   "execution_count": 73,
   "id": "9112331f",
   "metadata": {},
   "outputs": [
    {
     "data": {
      "text/plain": [
       "'hellohi'"
      ]
     },
     "execution_count": 73,
     "metadata": {},
     "output_type": "execute_result"
    }
   ],
   "source": [
    "ac5[0].replace(\" \", \"\")"
   ]
  },
  {
   "cell_type": "code",
   "execution_count": 74,
   "id": "2acf942d",
   "metadata": {},
   "outputs": [
    {
     "data": {
      "text/html": [
       "<div>\n",
       "<style scoped>\n",
       "    .dataframe tbody tr th:only-of-type {\n",
       "        vertical-align: middle;\n",
       "    }\n",
       "\n",
       "    .dataframe tbody tr th {\n",
       "        vertical-align: top;\n",
       "    }\n",
       "\n",
       "    .dataframe thead th {\n",
       "        text-align: right;\n",
       "    }\n",
       "</style>\n",
       "<table border=\"1\" class=\"dataframe\">\n",
       "  <thead>\n",
       "    <tr style=\"text-align: right;\">\n",
       "      <th></th>\n",
       "      <th>poster_path</th>\n",
       "      <th>wiki_link</th>\n",
       "      <th>original_title</th>\n",
       "      <th>genres</th>\n",
       "      <th>imdb_rating</th>\n",
       "      <th>imdb_votes</th>\n",
       "      <th>story</th>\n",
       "      <th>summary</th>\n",
       "      <th>actors</th>\n",
       "      <th>rating_txt</th>\n",
       "      <th>votes_txt</th>\n",
       "    </tr>\n",
       "  </thead>\n",
       "  <tbody>\n",
       "    <tr>\n",
       "      <th>543</th>\n",
       "      <td>https://upload.wikimedia.org/wikipedia/en/thum...</td>\n",
       "      <td>https://en.wikipedia.org/wiki/Bandook_(2013_film)</td>\n",
       "      <td>Bandook</td>\n",
       "      <td>Crime|Thriller</td>\n",
       "      <td>6.1</td>\n",
       "      <td>114.0</td>\n",
       "      <td>Depicts the rise of Bhola Kevat a low cast boa...</td>\n",
       "      <td>In the lawless interiors of India  particularl...</td>\n",
       "      <td>Manisha Kelkar|Arshad Khan|Ashish Kotwal|Adity...</td>\n",
       "      <td>high_rating</td>\n",
       "      <td>low_votes</td>\n",
       "    </tr>\n",
       "  </tbody>\n",
       "</table>\n",
       "</div>"
      ],
      "text/plain": [
       "                                           poster_path  \\\n",
       "543  https://upload.wikimedia.org/wikipedia/en/thum...   \n",
       "\n",
       "                                             wiki_link original_title  \\\n",
       "543  https://en.wikipedia.org/wiki/Bandook_(2013_film)        Bandook   \n",
       "\n",
       "             genres  imdb_rating  imdb_votes  \\\n",
       "543  Crime|Thriller          6.1       114.0   \n",
       "\n",
       "                                                 story  \\\n",
       "543  Depicts the rise of Bhola Kevat a low cast boa...   \n",
       "\n",
       "                                               summary  \\\n",
       "543  In the lawless interiors of India  particularl...   \n",
       "\n",
       "                                                actors   rating_txt  votes_txt  \n",
       "543  Manisha Kelkar|Arshad Khan|Ashish Kotwal|Adity...  high_rating  low_votes  "
      ]
     },
     "execution_count": 74,
     "metadata": {},
     "output_type": "execute_result"
    }
   ],
   "source": [
    "df_movie.sample()"
   ]
  },
  {
   "cell_type": "code",
   "execution_count": 75,
   "id": "d3950d44",
   "metadata": {},
   "outputs": [],
   "source": [
    "import spacy"
   ]
  },
  {
   "cell_type": "code",
   "execution_count": 76,
   "id": "aab71bcc",
   "metadata": {},
   "outputs": [],
   "source": [
    "nlp = spacy.load(\"en_core_web_sm\")"
   ]
  },
  {
   "cell_type": "code",
   "execution_count": 77,
   "id": "5ec849cf",
   "metadata": {},
   "outputs": [],
   "source": [
    "def return_tag(row) : \n",
    "    # print(row['genres'])\n",
    "    genres = \" \".join(row['genres'].split(\"|\"))\n",
    "    summary = row['summary']\n",
    "    actors_5 = row['actors'].split(\"|\")[:5]\n",
    "    actors = []\n",
    "    for itm in actors_5 : \n",
    "        actors.append(itm.replace(\" \", \"\"))\n",
    "    actors = \" \".join(actors)\n",
    "    \n",
    "    rating_txt = row['rating_txt']\n",
    "    votes_txt = row['votes_txt']\n",
    "    sig_row = genres + \" \" + summary + \" \" + actors + \" \" + rating_txt + \" \" + votes_txt \n",
    "    \n",
    "    # clean single row all tags\n",
    "    return \" \".join([ token.lemma_ for token in nlp(sig_row.lower()) if not(token.is_digit or token.is_stop or token.is_space or token.is_punct) ])"
   ]
  },
  {
   "cell_type": "code",
   "execution_count": 78,
   "id": "738d9002",
   "metadata": {},
   "outputs": [
    {
     "data": {
      "text/plain": [
       "'nice meet walk'"
      ]
     },
     "execution_count": 78,
     "metadata": {},
     "output_type": "execute_result"
    }
   ],
   "source": [
    "\" \".join([ token.lemma_ for token in nlp(\"Nice to meet you. what are you doing walking\".lower()) if not(token.is_digit or token.is_stop or token.is_space or token.is_punct) ])"
   ]
  },
  {
   "cell_type": "code",
   "execution_count": 79,
   "id": "beff76d4",
   "metadata": {},
   "outputs": [
    {
     "data": {
      "text/plain": [
       "'hello hi'"
      ]
     },
     "execution_count": 79,
     "metadata": {},
     "output_type": "execute_result"
    }
   ],
   "source": [
    "\"hello\" + \" \" + \"hi\""
   ]
  },
  {
   "cell_type": "code",
   "execution_count": null,
   "id": "31d38d59",
   "metadata": {},
   "outputs": [],
   "source": []
  },
  {
   "cell_type": "code",
   "execution_count": 80,
   "id": "e72b87d1",
   "metadata": {},
   "outputs": [],
   "source": [
    "df_movie['tags'] = df_movie.apply(return_tag, axis = 1)"
   ]
  },
  {
   "cell_type": "code",
   "execution_count": 81,
   "id": "0d164ee3",
   "metadata": {},
   "outputs": [
    {
     "data": {
      "text/html": [
       "<div>\n",
       "<style scoped>\n",
       "    .dataframe tbody tr th:only-of-type {\n",
       "        vertical-align: middle;\n",
       "    }\n",
       "\n",
       "    .dataframe tbody tr th {\n",
       "        vertical-align: top;\n",
       "    }\n",
       "\n",
       "    .dataframe thead th {\n",
       "        text-align: right;\n",
       "    }\n",
       "</style>\n",
       "<table border=\"1\" class=\"dataframe\">\n",
       "  <thead>\n",
       "    <tr style=\"text-align: right;\">\n",
       "      <th></th>\n",
       "      <th>poster_path</th>\n",
       "      <th>wiki_link</th>\n",
       "      <th>original_title</th>\n",
       "      <th>genres</th>\n",
       "      <th>imdb_rating</th>\n",
       "      <th>imdb_votes</th>\n",
       "      <th>story</th>\n",
       "      <th>summary</th>\n",
       "      <th>actors</th>\n",
       "      <th>rating_txt</th>\n",
       "      <th>votes_txt</th>\n",
       "      <th>tags</th>\n",
       "    </tr>\n",
       "  </thead>\n",
       "  <tbody>\n",
       "    <tr>\n",
       "      <th>0</th>\n",
       "      <td>https://upload.wikimedia.org/wikipedia/en/thum...</td>\n",
       "      <td>https://en.wikipedia.org/wiki/Uri:_The_Surgica...</td>\n",
       "      <td>Uri: The Surgical Strike</td>\n",
       "      <td>Action|Drama|War</td>\n",
       "      <td>8.4</td>\n",
       "      <td>35112.0</td>\n",
       "      <td>Divided over five chapters  the film chronicle...</td>\n",
       "      <td>Indian army special forces execute a covert op...</td>\n",
       "      <td>Vicky Kaushal|Paresh Rawal|Mohit Raina|Yami Ga...</td>\n",
       "      <td>very_high_rating</td>\n",
       "      <td>very_high_votes</td>\n",
       "      <td>action drama war indian army special force exe...</td>\n",
       "    </tr>\n",
       "  </tbody>\n",
       "</table>\n",
       "</div>"
      ],
      "text/plain": [
       "                                         poster_path  \\\n",
       "0  https://upload.wikimedia.org/wikipedia/en/thum...   \n",
       "\n",
       "                                           wiki_link  \\\n",
       "0  https://en.wikipedia.org/wiki/Uri:_The_Surgica...   \n",
       "\n",
       "             original_title            genres  imdb_rating  imdb_votes  \\\n",
       "0  Uri: The Surgical Strike  Action|Drama|War          8.4     35112.0   \n",
       "\n",
       "                                               story  \\\n",
       "0  Divided over five chapters  the film chronicle...   \n",
       "\n",
       "                                             summary  \\\n",
       "0  Indian army special forces execute a covert op...   \n",
       "\n",
       "                                              actors        rating_txt  \\\n",
       "0  Vicky Kaushal|Paresh Rawal|Mohit Raina|Yami Ga...  very_high_rating   \n",
       "\n",
       "         votes_txt                                               tags  \n",
       "0  very_high_votes  action drama war indian army special force exe...  "
      ]
     },
     "execution_count": 81,
     "metadata": {},
     "output_type": "execute_result"
    }
   ],
   "source": [
    "df_movie.head(1)"
   ]
  },
  {
   "cell_type": "code",
   "execution_count": 82,
   "id": "81897a5d",
   "metadata": {},
   "outputs": [
    {
     "data": {
      "text/plain": [
       "'comedy drama wealthy goa base income tax officer douglas lazarus pass away exercise treadmill speed 10.5 funeral arrange relative notify eld sunilshetty aartichhabria aashishchaudhary kimsharma aftabshivdasani low_rate medium_vote'"
      ]
     },
     "execution_count": 82,
     "metadata": {},
     "output_type": "execute_result"
    }
   ],
   "source": [
    "df_movie['tags'][900]"
   ]
  },
  {
   "cell_type": "code",
   "execution_count": 83,
   "id": "0701e128",
   "metadata": {},
   "outputs": [],
   "source": [
    "from sklearn.feature_extraction.text import CountVectorizer, TfidfVectorizer"
   ]
  },
  {
   "cell_type": "code",
   "execution_count": 164,
   "id": "94ad53ce",
   "metadata": {},
   "outputs": [],
   "source": [
    "# cv = CountVectorizer()\n",
    "cv = TfidfVectorizer(max_features=5000)"
   ]
  },
  {
   "cell_type": "code",
   "execution_count": 165,
   "id": "607da998",
   "metadata": {},
   "outputs": [],
   "source": [
    "sen_vectors = cv.fit_transform(df_movie['tags']).toarray()"
   ]
  },
  {
   "cell_type": "code",
   "execution_count": 166,
   "id": "36e21c63",
   "metadata": {},
   "outputs": [
    {
     "data": {
      "text/plain": [
       "(1576, 5000)"
      ]
     },
     "execution_count": 166,
     "metadata": {},
     "output_type": "execute_result"
    }
   ],
   "source": [
    "sen_vectors.shape"
   ]
  },
  {
   "cell_type": "code",
   "execution_count": 167,
   "id": "58241150",
   "metadata": {},
   "outputs": [
    {
     "name": "stderr",
     "output_type": "stream",
     "text": [
      "C:\\Users\\RAKESH\\anaconda3\\lib\\site-packages\\sklearn\\utils\\deprecation.py:87: FutureWarning: Function get_feature_names is deprecated; get_feature_names is deprecated in 1.0 and will be removed in 1.2. Please use get_feature_names_out instead.\n",
      "  warnings.warn(msg, category=FutureWarning)\n"
     ]
    },
    {
     "data": {
      "text/plain": [
       "['11th',\n",
       " '1960',\n",
       " '1970s',\n",
       " '30th',\n",
       " '40',\n",
       " 'aahanakumra',\n",
       " 'aakashdabhade',\n",
       " 'aakashdahiya',\n",
       " 'aamiralimalik',\n",
       " 'aamirbashir',\n",
       " 'aamirkhan',\n",
       " 'aamna',\n",
       " 'aamnasharif',\n",
       " 'aanchaldwivedi',\n",
       " 'aartichhabria',\n",
       " 'aashifsheikh',\n",
       " 'aashishchaudhary',\n",
       " 'abandon',\n",
       " 'abbas',\n",
       " 'abduct',\n",
       " 'abductor',\n",
       " 'abdulquadiramin',\n",
       " 'abhay',\n",
       " 'abhaybhargav',\n",
       " 'abhaydeol',\n",
       " 'abhi',\n",
       " 'abhimanyu',\n",
       " 'abhimanyusingh',\n",
       " 'abhinav',\n",
       " 'abhishek',\n",
       " 'abhishekbachchan',\n",
       " 'abhishekbanerjee',\n",
       " 'abide',\n",
       " 'ability',\n",
       " 'able',\n",
       " 'abort',\n",
       " 'abuse',\n",
       " 'abused',\n",
       " 'academic',\n",
       " 'accept',\n",
       " 'accident',\n",
       " 'accidental',\n",
       " 'accidentally',\n",
       " 'accompany',\n",
       " 'accomplish',\n",
       " 'account',\n",
       " 'accountant',\n",
       " 'accuse',\n",
       " 'acharya',\n",
       " 'achieve',\n",
       " 'achintkaur',\n",
       " 'acp',\n",
       " 'acquire',\n",
       " 'act',\n",
       " 'action',\n",
       " 'activist',\n",
       " 'activity',\n",
       " 'actor',\n",
       " 'actress',\n",
       " 'actually',\n",
       " 'adahsharma',\n",
       " 'adam',\n",
       " 'adaptation',\n",
       " 'adaption',\n",
       " 'add',\n",
       " 'addiction',\n",
       " 'adhyayan',\n",
       " 'adhyayansuman',\n",
       " 'adi',\n",
       " 'adiirani',\n",
       " 'adilhussain',\n",
       " 'aditi',\n",
       " 'aditiraohydari',\n",
       " 'aditisharma',\n",
       " 'aditivasudev',\n",
       " 'aditya',\n",
       " 'adityakumar',\n",
       " 'adityalakhia',\n",
       " 'adityapancholi',\n",
       " 'adityaroykapoor',\n",
       " 'adityaseal',\n",
       " 'adityasrivastava',\n",
       " 'admirer',\n",
       " 'adopt',\n",
       " 'adult',\n",
       " 'adventure',\n",
       " 'advertisement',\n",
       " 'advertising',\n",
       " 'affair',\n",
       " 'affect',\n",
       " 'affection',\n",
       " 'affluent',\n",
       " 'afford',\n",
       " 'aftab',\n",
       " 'aftabshivdasani',\n",
       " 'age',\n",
       " 'aged',\n",
       " 'agency',\n",
       " 'agenda',\n",
       " 'agent',\n",
       " 'aggrieve',\n",
       " 'ago',\n",
       " 'agra',\n",
       " 'agree',\n",
       " 'ahmed',\n",
       " 'ahsaaschanna',\n",
       " 'aim',\n",
       " 'air',\n",
       " 'airplane',\n",
       " 'aishwarya',\n",
       " 'aishwaryaraibachchan',\n",
       " 'ajay',\n",
       " 'ajaydevgn',\n",
       " 'aka',\n",
       " 'akash',\n",
       " 'akashkhurana',\n",
       " 'akhilendramishra',\n",
       " 'akkashbasnet',\n",
       " 'akram',\n",
       " 'akshay',\n",
       " 'akshayekhanna',\n",
       " 'akshaykapoor',\n",
       " 'akshaykumar',\n",
       " 'akshayoberoi',\n",
       " 'alcohol',\n",
       " 'alcoholic',\n",
       " 'ali',\n",
       " 'aliabhatt',\n",
       " 'alias',\n",
       " 'aliasgar',\n",
       " 'alien',\n",
       " 'alifazal',\n",
       " 'alike',\n",
       " 'alishaberry',\n",
       " 'alive',\n",
       " 'alizafar',\n",
       " 'alkaamin',\n",
       " 'allege',\n",
       " 'allegedly',\n",
       " 'alliance',\n",
       " 'allow',\n",
       " 'aloknath',\n",
       " 'alter',\n",
       " 'alyykhan',\n",
       " 'amalaakkineni',\n",
       " 'aman',\n",
       " 'amanverma',\n",
       " 'amar',\n",
       " 'amarjeet',\n",
       " 'ambition',\n",
       " 'ambitious',\n",
       " 'ameeshapatel',\n",
       " 'america',\n",
       " 'american',\n",
       " 'amid',\n",
       " 'amidst',\n",
       " 'amit',\n",
       " 'amitabh',\n",
       " 'amitabhbachchan',\n",
       " 'amitmistry',\n",
       " 'amitsadh',\n",
       " 'amnesia',\n",
       " 'amnesiac',\n",
       " 'amrishpuri',\n",
       " 'amrita',\n",
       " 'amritaarora',\n",
       " 'amritapuri',\n",
       " 'amritarao',\n",
       " 'amritasingh',\n",
       " 'amrutakhanvilkar',\n",
       " 'amrutasubhash',\n",
       " 'amu',\n",
       " 'amyjackson',\n",
       " 'amyradastur',\n",
       " 'anamika',\n",
       " 'anand',\n",
       " 'anandtiwari',\n",
       " 'anangdesai',\n",
       " 'ananthnarayanmahadevan',\n",
       " 'anantjog',\n",
       " 'anantnag',\n",
       " 'ananya',\n",
       " 'ananyapanday',\n",
       " 'ananyasengupta',\n",
       " 'ancestral',\n",
       " 'ancient',\n",
       " 'andreajeremiah',\n",
       " 'angiradhar',\n",
       " 'anil',\n",
       " 'anildhawan',\n",
       " 'anilgeorge',\n",
       " 'anilkapoor',\n",
       " 'animal',\n",
       " 'animation',\n",
       " 'anirudh',\n",
       " 'anisa',\n",
       " 'anita',\n",
       " 'anitahassanandanireddy',\n",
       " 'anitaraj',\n",
       " 'anjali',\n",
       " 'anjanasukhani',\n",
       " 'anjansrivastav',\n",
       " 'anjorialagh',\n",
       " 'anju',\n",
       " 'ankurvikal',\n",
       " 'ankush',\n",
       " 'anna',\n",
       " 'anniversary',\n",
       " 'annukapoor',\n",
       " 'anshumanjha',\n",
       " 'answer',\n",
       " 'antara',\n",
       " 'antaramali',\n",
       " 'antique',\n",
       " 'anu',\n",
       " 'anujsawhney',\n",
       " 'anujsaxena',\n",
       " 'anupam',\n",
       " 'anupamaverma',\n",
       " 'anupamkher',\n",
       " 'anuragarora',\n",
       " 'anuragkashyap',\n",
       " 'anushadhandekar',\n",
       " 'anushka',\n",
       " 'anushkasharma',\n",
       " 'anwar',\n",
       " 'aparna',\n",
       " 'aparshaktikhurana',\n",
       " 'apart',\n",
       " 'apartment',\n",
       " 'apoorvaagnihotri',\n",
       " 'appear',\n",
       " 'appoint',\n",
       " 'apprehend',\n",
       " 'apprentice',\n",
       " 'approach',\n",
       " 'approve',\n",
       " 'arbaaz',\n",
       " 'arbaazkhan',\n",
       " 'arch',\n",
       " 'archanapuransingh',\n",
       " 'architect',\n",
       " 'area',\n",
       " 'arfilamba',\n",
       " 'argument',\n",
       " 'arise',\n",
       " 'aristocrat',\n",
       " 'arjanbajwa',\n",
       " 'arjun',\n",
       " 'arjunkapoor',\n",
       " 'arjunmathur',\n",
       " 'arjunrampal',\n",
       " 'arm',\n",
       " 'armed',\n",
       " 'army',\n",
       " 'arora',\n",
       " 'arrange',\n",
       " 'arranged',\n",
       " 'arrest',\n",
       " 'arrival',\n",
       " 'arrive',\n",
       " 'arrogant',\n",
       " 'arshadwarsi',\n",
       " 'art',\n",
       " 'artist',\n",
       " 'artiste',\n",
       " 'artmalik',\n",
       " 'arun',\n",
       " 'arunbakshi',\n",
       " 'arunbali',\n",
       " 'arunodaysingh',\n",
       " 'arvindswamy',\n",
       " 'arya',\n",
       " 'aryababbar',\n",
       " 'aryan',\n",
       " 'aryanvaid',\n",
       " 'aryemanramsay',\n",
       " 'ashar',\n",
       " 'ashasachdev',\n",
       " 'asheeshkapur',\n",
       " 'ashish',\n",
       " 'ashishverma',\n",
       " 'ashishvidyarthi',\n",
       " 'ashmitpatel',\n",
       " 'ashok',\n",
       " 'ashokbanthia',\n",
       " 'ashutosh',\n",
       " 'ashutoshrana',\n",
       " 'ashwathbhatt',\n",
       " 'ashwin',\n",
       " 'ashwini',\n",
       " 'ashwinikalsekar',\n",
       " 'asifbasra',\n",
       " 'asin',\n",
       " 'ask',\n",
       " 'aslamkhan',\n",
       " 'aspect',\n",
       " 'aspirant',\n",
       " 'aspire',\n",
       " 'asrani',\n",
       " 'assassin',\n",
       " 'assassinate',\n",
       " 'assassination',\n",
       " 'assault',\n",
       " 'assign',\n",
       " 'assignment',\n",
       " 'assist',\n",
       " 'assistant',\n",
       " 'associate',\n",
       " 'assorted',\n",
       " 'assume',\n",
       " 'athiyashetty',\n",
       " 'athlete',\n",
       " 'atlanta',\n",
       " 'attack',\n",
       " 'attempt',\n",
       " 'attend',\n",
       " 'attention',\n",
       " 'attract',\n",
       " 'attractive',\n",
       " 'atulkulkarni',\n",
       " 'atulkumar',\n",
       " 'atulsharma',\n",
       " 'aunt',\n",
       " 'aurangzeb',\n",
       " 'australia',\n",
       " 'author',\n",
       " 'authority',\n",
       " 'autistic',\n",
       " 'avenge',\n",
       " 'avinash',\n",
       " 'avoid',\n",
       " 'avtargill',\n",
       " 'await',\n",
       " 'award',\n",
       " 'aware',\n",
       " 'away',\n",
       " 'awe',\n",
       " 'ayesha',\n",
       " 'ayeshajhulka',\n",
       " 'ayeshakapoor',\n",
       " 'ayeshatakia',\n",
       " 'ayubkhan',\n",
       " 'ayushmannkhurrana',\n",
       " 'azmi',\n",
       " 'baba',\n",
       " 'babbar',\n",
       " 'babu',\n",
       " 'baby',\n",
       " 'bachchan',\n",
       " 'bachelor',\n",
       " 'backdrop',\n",
       " 'background',\n",
       " 'bad',\n",
       " 'badal',\n",
       " 'bag',\n",
       " 'bahadur',\n",
       " 'bahl',\n",
       " 'bajaj',\n",
       " 'bajrangbalisingh',\n",
       " 'balance',\n",
       " 'bali',\n",
       " 'balwinder',\n",
       " 'band',\n",
       " 'bandit',\n",
       " 'banerjee',\n",
       " 'bangalore',\n",
       " 'bangkok',\n",
       " 'bank',\n",
       " 'banker',\n",
       " 'bar',\n",
       " 'barber',\n",
       " 'baron',\n",
       " 'barunchanda',\n",
       " 'barunsobti',\n",
       " 'base',\n",
       " 'basu',\n",
       " 'batki',\n",
       " 'batra',\n",
       " 'battle',\n",
       " 'bazaar',\n",
       " 'beach',\n",
       " 'bear',\n",
       " 'beat',\n",
       " 'beautiful',\n",
       " 'beauty',\n",
       " 'bedi',\n",
       " 'befriend',\n",
       " 'begin',\n",
       " 'beginning',\n",
       " 'belief',\n",
       " 'believe',\n",
       " 'belong',\n",
       " 'beloved',\n",
       " 'bengal',\n",
       " 'bet',\n",
       " 'betray',\n",
       " 'betrayal',\n",
       " 'bhai',\n",
       " 'bhanwarlal',\n",
       " 'bharatdabholkar',\n",
       " 'bharti',\n",
       " 'bhatti',\n",
       " 'bhavesh',\n",
       " 'bheem',\n",
       " 'bhoomikachawla',\n",
       " 'bhumipednekar',\n",
       " 'bid',\n",
       " 'biditabag',\n",
       " 'big',\n",
       " 'bihar',\n",
       " 'bijlee',\n",
       " 'bikramsaluja',\n",
       " 'bin',\n",
       " 'bind',\n",
       " 'biographical',\n",
       " 'biography',\n",
       " 'biological',\n",
       " 'biopic',\n",
       " 'bipasha',\n",
       " 'bipashabasu',\n",
       " 'birbal',\n",
       " 'birth',\n",
       " 'bitter',\n",
       " 'bittoo',\n",
       " 'bizarre',\n",
       " 'björnfreiberg',\n",
       " 'black',\n",
       " 'blackmail',\n",
       " 'blame',\n",
       " 'blast',\n",
       " 'blessing',\n",
       " 'blind',\n",
       " 'bliss',\n",
       " 'blood',\n",
       " 'blooded',\n",
       " 'bloom',\n",
       " 'blue',\n",
       " 'blunder',\n",
       " 'board',\n",
       " 'boat',\n",
       " 'bobby',\n",
       " 'bobbydarle',\n",
       " 'bobbydeol',\n",
       " 'body',\n",
       " 'bodyguard',\n",
       " 'bollywood',\n",
       " 'bomanirani',\n",
       " 'bomb',\n",
       " 'bombay',\n",
       " 'bombing',\n",
       " 'bond',\n",
       " 'book',\n",
       " 'border',\n",
       " 'bore',\n",
       " 'boss',\n",
       " 'box',\n",
       " 'boxer',\n",
       " 'boxing',\n",
       " 'boy',\n",
       " 'boyfriend',\n",
       " 'branch',\n",
       " 'brat',\n",
       " 'brave',\n",
       " 'break',\n",
       " 'bribe',\n",
       " 'brick',\n",
       " 'bride',\n",
       " 'brijendrakala',\n",
       " 'brijgopal',\n",
       " 'brilliant',\n",
       " 'bring',\n",
       " 'british',\n",
       " 'broker',\n",
       " 'brothel',\n",
       " 'brother',\n",
       " 'brutal',\n",
       " 'brutality',\n",
       " 'brutally',\n",
       " 'buck',\n",
       " 'bud',\n",
       " 'buddy',\n",
       " 'build',\n",
       " 'building',\n",
       " 'bully',\n",
       " 'bumble',\n",
       " 'bumboo',\n",
       " 'bunch',\n",
       " 'bundelkhand',\n",
       " 'bungalow',\n",
       " 'burden',\n",
       " 'bureau',\n",
       " 'burglar',\n",
       " 'business',\n",
       " 'businessman',\n",
       " 'businesswoman',\n",
       " 'busy',\n",
       " 'buy',\n",
       " 'calcutta',\n",
       " 'call',\n",
       " 'camera',\n",
       " 'campaign',\n",
       " 'canada',\n",
       " 'canadian',\n",
       " 'cancel',\n",
       " 'cancer',\n",
       " 'caper',\n",
       " 'capital',\n",
       " 'captain',\n",
       " 'capture',\n",
       " 'car',\n",
       " 'card',\n",
       " 'care',\n",
       " 'career',\n",
       " 'carefree',\n",
       " 'carry',\n",
       " 'carve',\n",
       " 'case',\n",
       " 'cash',\n",
       " 'caste',\n",
       " 'catch',\n",
       " 'cater',\n",
       " 'cause',\n",
       " 'cbi',\n",
       " 'celebrate',\n",
       " 'celebrated',\n",
       " 'celebrity',\n",
       " 'celinajaitly',\n",
       " 'cell',\n",
       " 'center',\n",
       " 'central',\n",
       " 'century',\n",
       " 'ceo',\n",
       " 'chain',\n",
       " 'chakravarthi',\n",
       " 'challenge',\n",
       " 'chaman',\n",
       " 'chambal',\n",
       " 'champion',\n",
       " 'chance',\n",
       " 'chandanroysanyal',\n",
       " 'chander',\n",
       " 'chandni',\n",
       " 'chandra',\n",
       " 'chandrachursingh',\n",
       " 'chandu',\n",
       " 'change',\n",
       " 'chaos',\n",
       " 'chaotic',\n",
       " 'character',\n",
       " 'charan',\n",
       " 'charanpreetinsan',\n",
       " 'charge',\n",
       " 'charm',\n",
       " 'charming',\n",
       " 'chase',\n",
       " 'chatterjee',\n",
       " 'chaturvedi',\n",
       " 'chaudhary',\n",
       " 'chauhan',\n",
       " 'chauvinism',\n",
       " 'chawla',\n",
       " 'cheat',\n",
       " 'chef',\n",
       " 'chennai',\n",
       " 'chicago',\n",
       " 'chief',\n",
       " 'child',\n",
       " 'childhood',\n",
       " 'chinatown',\n",
       " 'chirpy',\n",
       " 'chitrangdasingh',\n",
       " 'chitrashirawat',\n",
       " 'choice',\n",
       " 'choose',\n",
       " 'chopra',\n",
       " 'chowk',\n",
       " 'chronicle',\n",
       " 'chunkypandey',\n",
       " 'cinema',\n",
       " 'circumstance',\n",
       " 'citizen',\n",
       " 'city',\n",
       " 'claim',\n",
       " 'clash',\n",
       " 'class',\n",
       " 'classic',\n",
       " 'classmate',\n",
       " 'clear',\n",
       " 'clerk',\n",
       " 'clinic',\n",
       " 'clock',\n",
       " 'close',\n",
       " 'closed',\n",
       " 'closely',\n",
       " 'cloud',\n",
       " 'club',\n",
       " 'clutch',\n",
       " 'co',\n",
       " 'coach',\n",
       " 'coaster',\n",
       " 'coffee',\n",
       " 'cold',\n",
       " 'collapse',\n",
       " 'colleague',\n",
       " 'collect',\n",
       " 'collector',\n",
       " 'college',\n",
       " 'collegian',\n",
       " 'colonel',\n",
       " 'colorful',\n",
       " 'com',\n",
       " 'come',\n",
       " 'comedy',\n",
       " 'comfort',\n",
       " 'comfortable',\n",
       " 'comic',\n",
       " 'comical',\n",
       " 'coming',\n",
       " 'command',\n",
       " 'commando',\n",
       " 'commissioner',\n",
       " 'commit',\n",
       " 'commitment',\n",
       " 'common',\n",
       " 'communicate',\n",
       " 'community',\n",
       " 'companion',\n",
       " 'company',\n",
       " 'compel',\n",
       " 'compete',\n",
       " 'competition',\n",
       " 'complaint',\n",
       " 'complete',\n",
       " 'completely',\n",
       " 'complex',\n",
       " 'complicate',\n",
       " 'complicated',\n",
       " 'complication',\n",
       " 'compulsive',\n",
       " 'con',\n",
       " 'conceal',\n",
       " 'concerned',\n",
       " 'condition',\n",
       " 'conduct',\n",
       " 'conflict',\n",
       " 'confront',\n",
       " 'confrontation',\n",
       " 'confusion',\n",
       " 'conman',\n",
       " 'connect',\n",
       " 'connection',\n",
       " 'consequence',\n",
       " 'conservative',\n",
       " 'consider',\n",
       " 'consist',\n",
       " 'conspiracy',\n",
       " 'construct',\n",
       " 'consult',\n",
       " 'contact',\n",
       " 'contain',\n",
       " 'contemporary',\n",
       " 'content',\n",
       " 'contest',\n",
       " 'continue',\n",
       " 'contract',\n",
       " 'control',\n",
       " 'controversial',\n",
       " 'controversy',\n",
       " 'conversation',\n",
       " 'convict',\n",
       " 'convince',\n",
       " 'cook',\n",
       " 'cop',\n",
       " 'cope',\n",
       " 'copywriter',\n",
       " 'coronation',\n",
       " 'corporate',\n",
       " 'corrupt',\n",
       " 'corruption',\n",
       " 'cost',\n",
       " 'cottage',\n",
       " 'counter',\n",
       " 'country',\n",
       " 'couple',\n",
       " 'courage',\n",
       " 'course',\n",
       " 'court',\n",
       " 'courtesan',\n",
       " 'cousin',\n",
       " 'cover',\n",
       " 'crash',\n",
       " 'crazy',\n",
       " 'create',\n",
       " 'credit',\n",
       " 'crew',\n",
       " 'cricket',\n",
       " 'cricketer',\n",
       " 'crime',\n",
       " 'criminal',\n",
       " 'crisis',\n",
       " 'crook',\n",
       " 'crore',\n",
       " 'cross',\n",
       " 'crosse',\n",
       " 'crush',\n",
       " 'cruz',\n",
       " 'culprit',\n",
       " 'cultural',\n",
       " 'cum',\n",
       " 'cunning',\n",
       " 'cure',\n",
       " 'curse',\n",
       " 'custody',\n",
       " 'cut',\n",
       " 'cyrusbroacha',\n",
       " 'dacoit',\n",
       " 'dad',\n",
       " 'daddy',\n",
       " 'daisyshah',\n",
       " 'daliptahil',\n",
       " 'dance',\n",
       " 'dancer',\n",
       " 'dancing',\n",
       " 'danger',\n",
       " 'dangerous',\n",
       " 'danishhusain',\n",
       " 'dannydenzongpa',\n",
       " 'dark',\n",
       " 'darshanjariwala',\n",
       " 'darshankumaar',\n",
       " 'darsheelsafary',\n",
       " 'date',\n",
       " 'daughter',\n",
       " 'dawn',\n",
       " 'day',\n",
       " 'dayal',\n",
       " 'dayashankarpandey',\n",
       " 'dcp',\n",
       " 'dead',\n",
       " 'deadly',\n",
       " 'deaf',\n",
       " 'deal',\n",
       " 'dealer',\n",
       " 'death',\n",
       " 'debt',\n",
       " 'decade',\n",
       " 'deceased',\n",
       " 'deceit',\n",
       " 'deceive',\n",
       " 'decent',\n",
       " 'deception',\n",
       " 'decide',\n",
       " 'decision',\n",
       " 'declare',\n",
       " 'dedicated',\n",
       " 'deep',\n",
       " 'deepak',\n",
       " 'deepakdobriyal',\n",
       " 'deepaktijori',\n",
       " 'deepalshaw',\n",
       " 'deepikaamin',\n",
       " 'deepikapadukone',\n",
       " 'deeply',\n",
       " 'deeprajrana',\n",
       " 'deepshikanagpal',\n",
       " 'deeptinaval',\n",
       " 'defeat',\n",
       " 'defend',\n",
       " 'definition',\n",
       " 'defy',\n",
       " 'delhi',\n",
       " 'deliver',\n",
       " 'delivery',\n",
       " 'delnaazirani',\n",
       " 'delzadhiwale',\n",
       " 'demand',\n",
       " 'demon',\n",
       " 'deny',\n",
       " 'denzilsmith',\n",
       " 'deol',\n",
       " 'depict',\n",
       " 'depressed',\n",
       " 'depute',\n",
       " 'desert',\n",
       " 'design',\n",
       " 'designer',\n",
       " 'desire',\n",
       " 'despair',\n",
       " 'desperate',\n",
       " 'despite',\n",
       " 'destination',\n",
       " 'destiny',\n",
       " 'destroy',\n",
       " 'destruction',\n",
       " 'detective',\n",
       " 'determine',\n",
       " 'determined',\n",
       " 'dev',\n",
       " 'deva',\n",
       " 'devaki',\n",
       " 'devanand',\n",
       " 'devastated',\n",
       " 'devastating',\n",
       " 'devdas',\n",
       " 'develop',\n",
       " 'devgan',\n",
       " 'devi',\n",
       " 'device',\n",
       " 'devil',\n",
       " 'devshikhanduri',\n",
       " 'dhanush',\n",
       " 'dharmendra',\n",
       " 'dharmeshyelande',\n",
       " 'dhritimanchatterjee',\n",
       " 'dhruv',\n",
       " 'diagnose',\n",
       " 'dial',\n",
       " 'diamirza',\n",
       " 'diamond',\n",
       " 'dianapenty',\n",
       " 'diary',\n",
       " 'die',\n",
       " 'difference',\n",
       " 'different',\n",
       " 'differentiate',\n",
       " 'difficulty',\n",
       " 'dig',\n",
       " 'diganganasuryavanshi',\n",
       " 'diganth',\n",
       " 'dignity',\n",
       " 'dilemma',\n",
       " 'diligent',\n",
       " 'dilip',\n",
       " 'dilipjoshi',\n",
       " 'diljitdosanjh',\n",
       " 'dimplekapadia',\n",
       " 'dina',\n",
       " 'dineshhingoo',\n",
       " 'dinomorea',\n",
       " 'dipannitasharma',\n",
       " 'direct',\n",
       " 'director',\n",
       " 'disabled',\n",
       " 'disappear',\n",
       " 'disappearance',\n",
       " 'disaster',\n",
       " 'discover',\n",
       " 'discovery',\n",
       " 'discrimination',\n",
       " 'disgrace',\n",
       " 'dishapatani',\n",
       " 'dislike',\n",
       " 'district',\n",
       " 'dittu',\n",
       " 'diverse',\n",
       " 'divorce',\n",
       " 'divorced',\n",
       " 'divyaadwivedi',\n",
       " 'divyadutta',\n",
       " 'divyapalat',\n",
       " 'divyendusharma',\n",
       " 'dixit',\n",
       " 'dj',\n",
       " 'doctor',\n",
       " 'documentary',\n",
       " 'dog',\n",
       " 'dolly',\n",
       " 'don',\n",
       " 'donor',\n",
       " 'door',\n",
       " 'doorstep',\n",
       " 'doppelganger',\n",
       " 'double',\n",
       " 'down',\n",
       " 'dowry',\n",
       " 'dr',\n",
       " 'drama',\n",
       " 'dramatic',\n",
       " 'dramatically',\n",
       " 'draw',\n",
       " 'dread',\n",
       " 'dream',\n",
       " 'dress',\n",
       " 'drink',\n",
       " 'drive',\n",
       " 'driver',\n",
       " 'drop',\n",
       " 'drug',\n",
       " 'dubai',\n",
       " 'dubey',\n",
       " 'dulquersalmaan',\n",
       " 'dumb',\n",
       " 'dump',\n",
       " 'duo',\n",
       " 'durga',\n",
       " 'dushyant',\n",
       " 'dutt',\n",
       " 'dutta',\n",
       " 'duty',\n",
       " 'dweller',\n",
       " 'dwijyadav',\n",
       " 'dysfunctional',\n",
       " 'early',\n",
       " 'earn',\n",
       " 'earth',\n",
       " 'earthquake',\n",
       " 'east',\n",
       " 'eat',\n",
       " 'eccentric',\n",
       " 'economic',\n",
       " 'edgy',\n",
       " 'editor',\n",
       " 'educate',\n",
       " 'education',\n",
       " 'effort',\n",
       " 'ego',\n",
       " 'ehsankhan',\n",
       " 'eijazkhan',\n",
       " 'eld',\n",
       " 'elder',\n",
       " 'elderly',\n",
       " 'election',\n",
       " 'electricity',\n",
       " 'elenakazan',\n",
       " 'elephant',\n",
       " 'elite',\n",
       " 'elope',\n",
       " 'embark',\n",
       " 'embarks',\n",
       " 'embroil',\n",
       " 'emerge',\n",
       " 'emergency',\n",
       " 'emotion',\n",
       " 'emotional',\n",
       " 'emperor',\n",
       " 'empire',\n",
       " 'employ',\n",
       " 'employee',\n",
       " 'employer',\n",
       " 'employment',\n",
       " 'emraanhashmi',\n",
       " 'en',\n",
       " 'encounter',\n",
       " 'encourage',\n",
       " 'end',\n",
       " 'endanger',\n",
       " 'endeavor',\n",
       " 'enemy',\n",
       " 'enforcer',\n",
       " 'engage',\n",
       " 'engineer',\n",
       " 'engineering',\n",
       " 'england',\n",
       " 'english',\n",
       " 'enigmatic',\n",
       " 'enjoy',\n",
       " 'enlightenment',\n",
       " 'enlist',\n",
       " 'enrage',\n",
       " 'ensue',\n",
       " 'entangle',\n",
       " 'enter',\n",
       " 'entertainer',\n",
       " 'entertainment',\n",
       " 'entire',\n",
       " 'entity',\n",
       " 'epic',\n",
       " 'equally',\n",
       " 'era',\n",
       " 'erotic',\n",
       " 'error',\n",
       " 'escalate',\n",
       " 'escape',\n",
       " 'escort',\n",
       " 'esha',\n",
       " 'eshadeol',\n",
       " 'eshagupta',\n",
       " 'estranged',\n",
       " 'eternal',\n",
       " 'evade',\n",
       " 'eve',\n",
       " 'evelynsharma',\n",
       " 'evening',\n",
       " 'event',\n",
       " 'eventually',\n",
       " 'everybody',\n",
       " 'evidence',\n",
       " 'evil',\n",
       " 'evolve',\n",
       " 'ex',\n",
       " 'exact',\n",
       " 'excellent',\n",
       " 'exchange',\n",
       " 'exciting',\n",
       " 'executive',\n",
       " 'exhilarating',\n",
       " 'exile',\n",
       " 'exist',\n",
       " 'existence',\n",
       " ...]"
      ]
     },
     "execution_count": 167,
     "metadata": {},
     "output_type": "execute_result"
    }
   ],
   "source": [
    "cv.get_feature_names()"
   ]
  },
  {
   "cell_type": "code",
   "execution_count": 168,
   "id": "0735b40b",
   "metadata": {},
   "outputs": [
    {
     "data": {
      "text/plain": [
       "array([[0., 0., 0., ..., 0., 0., 0.],\n",
       "       [0., 0., 0., ..., 0., 0., 0.],\n",
       "       [0., 0., 0., ..., 0., 0., 0.],\n",
       "       ...,\n",
       "       [0., 0., 0., ..., 0., 0., 0.],\n",
       "       [0., 0., 0., ..., 0., 0., 0.],\n",
       "       [0., 0., 0., ..., 0., 0., 0.]])"
      ]
     },
     "execution_count": 168,
     "metadata": {},
     "output_type": "execute_result"
    }
   ],
   "source": [
    "sen_vectors"
   ]
  },
  {
   "cell_type": "code",
   "execution_count": 169,
   "id": "16d0680e",
   "metadata": {},
   "outputs": [
    {
     "data": {
      "text/plain": [
       "(1576, 5000)"
      ]
     },
     "execution_count": 169,
     "metadata": {},
     "output_type": "execute_result"
    }
   ],
   "source": [
    "sen_vectors.shape"
   ]
  },
  {
   "cell_type": "code",
   "execution_count": 170,
   "id": "ec49676f",
   "metadata": {},
   "outputs": [],
   "source": [
    "from sklearn.metrics.pairwise import cosine_similarity"
   ]
  },
  {
   "cell_type": "code",
   "execution_count": 171,
   "id": "31b90c84",
   "metadata": {},
   "outputs": [],
   "source": [
    "similarity = cosine_similarity(sen_vectors)"
   ]
  },
  {
   "cell_type": "code",
   "execution_count": 172,
   "id": "04e4515a",
   "metadata": {},
   "outputs": [
    {
     "data": {
      "text/plain": [
       "(1576, 1576)"
      ]
     },
     "execution_count": 172,
     "metadata": {},
     "output_type": "execute_result"
    }
   ],
   "source": [
    "similarity.shape"
   ]
  },
  {
   "cell_type": "code",
   "execution_count": 173,
   "id": "2a7cc49f",
   "metadata": {},
   "outputs": [],
   "source": [
    "import pickle"
   ]
  },
  {
   "cell_type": "code",
   "execution_count": 174,
   "id": "d5a4a6e4",
   "metadata": {},
   "outputs": [],
   "source": [
    "with open('similarity_tfidf_5000.pkl', 'wb') as simi : \n",
    "    pickle.dump(similarity, simi)"
   ]
  },
  {
   "cell_type": "code",
   "execution_count": null,
   "id": "7f492c00",
   "metadata": {},
   "outputs": [],
   "source": []
  },
  {
   "cell_type": "code",
   "execution_count": null,
   "id": "031febc5",
   "metadata": {},
   "outputs": [],
   "source": []
  },
  {
   "cell_type": "code",
   "execution_count": 73,
   "id": "fafae66d",
   "metadata": {},
   "outputs": [],
   "source": [
    "def return_top5_df(indx) : \n",
    "    list_movies = similarity[indx]\n",
    "    indx_percentage = sorted(list(enumerate(similarity[0])), key=lambda x : x[1], reverse=True)[1:6]\n",
    "    indexs = [ itm[0] for itm in indx_percentage]\n",
    "    return df_movie.iloc[indexs, :]"
   ]
  },
  {
   "cell_type": "code",
   "execution_count": 110,
   "id": "07f1cdf1",
   "metadata": {},
   "outputs": [],
   "source": [
    "def return_dic(row) : \n",
    "    return {\n",
    "        'indx' : row.name,\n",
    "        'img_link' : row['poster_path'],\n",
    "        'wiki_link' : row['wiki_link'],\n",
    "        'title' : row['original_title'],\n",
    "        'genres' : row['genres'].replace(\"|\", \" | \"),\n",
    "        'story' : row['story'],\n",
    "        'actors' : \" | \".join(row['actors'].split(\"|\")[:5])[:-3]\n",
    "    }"
   ]
  },
  {
   "cell_type": "code",
   "execution_count": 75,
   "id": "8e35349a",
   "metadata": {},
   "outputs": [
    {
     "data": {
      "text/html": [
       "<div>\n",
       "<style scoped>\n",
       "    .dataframe tbody tr th:only-of-type {\n",
       "        vertical-align: middle;\n",
       "    }\n",
       "\n",
       "    .dataframe tbody tr th {\n",
       "        vertical-align: top;\n",
       "    }\n",
       "\n",
       "    .dataframe thead th {\n",
       "        text-align: right;\n",
       "    }\n",
       "</style>\n",
       "<table border=\"1\" class=\"dataframe\">\n",
       "  <thead>\n",
       "    <tr style=\"text-align: right;\">\n",
       "      <th></th>\n",
       "      <th>imdb_id</th>\n",
       "      <th>poster_path</th>\n",
       "      <th>wiki_link</th>\n",
       "      <th>original_title</th>\n",
       "      <th>genres</th>\n",
       "      <th>story</th>\n",
       "      <th>actors</th>\n",
       "      <th>tags</th>\n",
       "    </tr>\n",
       "  </thead>\n",
       "  <tbody>\n",
       "    <tr>\n",
       "      <th>359</th>\n",
       "      <td>tt3886444</td>\n",
       "      <td>https://upload.wikimedia.org/wikipedia/en/thum...</td>\n",
       "      <td>https://en.wikipedia.org/wiki/Khamoshiyan</td>\n",
       "      <td>Khamoshiyan</td>\n",
       "      <td>Drama|Horror|Romance</td>\n",
       "      <td>An erotic love triangle revolving around a wri...</td>\n",
       "      <td>Gurmeet Choudhary|Ali Fazal|Sapna Pabbi|Debina...</td>\n",
       "      <td>drama horror romance erotic love triangle revo...</td>\n",
       "    </tr>\n",
       "  </tbody>\n",
       "</table>\n",
       "</div>"
      ],
      "text/plain": [
       "       imdb_id                                        poster_path  \\\n",
       "359  tt3886444  https://upload.wikimedia.org/wikipedia/en/thum...   \n",
       "\n",
       "                                     wiki_link original_title  \\\n",
       "359  https://en.wikipedia.org/wiki/Khamoshiyan    Khamoshiyan   \n",
       "\n",
       "                   genres                                              story  \\\n",
       "359  Drama|Horror|Romance  An erotic love triangle revolving around a wri...   \n",
       "\n",
       "                                                actors  \\\n",
       "359  Gurmeet Choudhary|Ali Fazal|Sapna Pabbi|Debina...   \n",
       "\n",
       "                                                  tags  \n",
       "359  drama horror romance erotic love triangle revo...  "
      ]
     },
     "execution_count": 75,
     "metadata": {},
     "output_type": "execute_result"
    }
   ],
   "source": [
    "df_movie.sample()"
   ]
  },
  {
   "cell_type": "code",
   "execution_count": 141,
   "id": "69f18f70",
   "metadata": {},
   "outputs": [
    {
     "data": {
      "text/plain": [
       "'drama horror romance erotic love triangle revolve writer adrift icy slope kashmir discover woman strange silent past gurmeetchoudhary alifazal sapnapabbi debinachoudhary'"
      ]
     },
     "execution_count": 141,
     "metadata": {},
     "output_type": "execute_result"
    }
   ],
   "source": [
    "df_movie.iloc[359]['tags']"
   ]
  },
  {
   "cell_type": "code",
   "execution_count": 107,
   "id": "3fd06f87",
   "metadata": {},
   "outputs": [],
   "source": []
  },
  {
   "cell_type": "code",
   "execution_count": 119,
   "id": "5fe7732b",
   "metadata": {},
   "outputs": [],
   "source": [
    "arr_dic = return_top5_df(df_movie[df_movie['original_title'] == 'Soni'].index[0]).apply(return_dic, axis = 1).values"
   ]
  },
  {
   "cell_type": "code",
   "execution_count": 122,
   "id": "ffe66f70",
   "metadata": {},
   "outputs": [
    {
     "data": {
      "text/plain": [
       "dict"
      ]
     },
     "execution_count": 122,
     "metadata": {},
     "output_type": "execute_result"
    }
   ],
   "source": [
    "type(arr_dic[0])"
   ]
  },
  {
   "cell_type": "code",
   "execution_count": 125,
   "id": "22a36faa",
   "metadata": {},
   "outputs": [
    {
     "name": "stdout",
     "output_type": "stream",
     "text": [
      "157 https://upload.wikimedia.org/wikipedia/en/thumb/e/eb/HindKANapakKoJawab-poster.jpeg/220px-HindKANapakKoJawab-poster.jpeg Gurmeet Ram Rahim Singh | Honeypreet Insan\n",
      "207 https://upload.wikimedia.org/wikipedia/en/thumb/a/ad/Raag_Desh_-_Poster.jpg/220px-Raag_Desh_-_Poster.jpg Kunal Kapoor | Amit Sadh | Mohit Marwah | Kenneth Desai | Mrudula Mur\n",
      "1410 https://upload.wikimedia.org/wikipedia/en/6/60/Zameen_poster.jpg Ajay Devgn | Abhishek Bachchan | Bipasha Basu | Mukesh Tiwari | Pankaj Dh\n",
      "633 https://upload.wikimedia.org/wikipedia/en/thumb/9/93/Paan_Singh_Tomar_Poster.jpg/220px-Paan_Singh_Tomar_Poster.jpg Irrfan Khan\n",
      "120 https://upload.wikimedia.org/wikipedia/en/thumb/6/64/Paltan_2018.jpg/220px-Paltan_2018.jpg Jackie Shroff | Arjun Rampal | Sonu Sood | Gurmeet Choudhary | Abdul Quadir A\n"
     ]
    }
   ],
   "source": [
    "for itm in arr_dic : \n",
    "    print(itm['indx'], itm['img_link'], itm['actors'])"
   ]
  },
  {
   "cell_type": "code",
   "execution_count": 81,
   "id": "4615d11e",
   "metadata": {
    "scrolled": true
   },
   "outputs": [
    {
     "data": {
      "text/html": [
       "<div>\n",
       "<style scoped>\n",
       "    .dataframe tbody tr th:only-of-type {\n",
       "        vertical-align: middle;\n",
       "    }\n",
       "\n",
       "    .dataframe tbody tr th {\n",
       "        vertical-align: top;\n",
       "    }\n",
       "\n",
       "    .dataframe thead th {\n",
       "        text-align: right;\n",
       "    }\n",
       "</style>\n",
       "<table border=\"1\" class=\"dataframe\">\n",
       "  <thead>\n",
       "    <tr style=\"text-align: right;\">\n",
       "      <th></th>\n",
       "      <th>imdb_id</th>\n",
       "      <th>poster_path</th>\n",
       "      <th>wiki_link</th>\n",
       "      <th>original_title</th>\n",
       "      <th>genres</th>\n",
       "      <th>story</th>\n",
       "      <th>actors</th>\n",
       "      <th>tags</th>\n",
       "    </tr>\n",
       "  </thead>\n",
       "  <tbody>\n",
       "    <tr>\n",
       "      <th>157</th>\n",
       "      <td>tt6467380</td>\n",
       "      <td>https://upload.wikimedia.org/wikipedia/en/thum...</td>\n",
       "      <td>https://en.wikipedia.org/wiki/Hind_Ka_Napak_Ko...</td>\n",
       "      <td>Hind Ka Napak Ko Jawab</td>\n",
       "      <td>Action|Comedy</td>\n",
       "      <td>The Father Daughter duo of Saint Dr. Gurmeet R...</td>\n",
       "      <td>Gurmeet Ram Rahim Singh|Honeypreet Insan|</td>\n",
       "      <td>action comedy father daughter duo saint dr gur...</td>\n",
       "    </tr>\n",
       "    <tr>\n",
       "      <th>207</th>\n",
       "      <td>tt6080746</td>\n",
       "      <td>https://upload.wikimedia.org/wikipedia/en/thum...</td>\n",
       "      <td>https://en.wikipedia.org/wiki/Raagdesh</td>\n",
       "      <td>Raag Desh</td>\n",
       "      <td>Action|Drama|History</td>\n",
       "      <td>A period film based on the historic 1945 India...</td>\n",
       "      <td>Kunal Kapoor|Amit Sadh|Mohit Marwah|Kenneth De...</td>\n",
       "      <td>action drama history period film base historic...</td>\n",
       "    </tr>\n",
       "    <tr>\n",
       "      <th>1410</th>\n",
       "      <td>tt0382385</td>\n",
       "      <td>https://upload.wikimedia.org/wikipedia/en/6/60...</td>\n",
       "      <td>https://en.wikipedia.org/wiki/Zameen_(2003_film)</td>\n",
       "      <td>Zameen</td>\n",
       "      <td>Action|Adventure|Thriller</td>\n",
       "      <td>Islamic terrorists  backed by Pakistan  boldly...</td>\n",
       "      <td>Ajay Devgn|Abhishek Bachchan|Bipasha Basu|Muke...</td>\n",
       "      <td>action adventure thriller islamic terrorist ba...</td>\n",
       "    </tr>\n",
       "    <tr>\n",
       "      <th>633</th>\n",
       "      <td>tt1620933</td>\n",
       "      <td>https://upload.wikimedia.org/wikipedia/en/thum...</td>\n",
       "      <td>https://en.wikipedia.org/wiki/Paan_Singh_Tomar...</td>\n",
       "      <td>Paan Singh Tomar</td>\n",
       "      <td>Action|Biography|Crime</td>\n",
       "      <td>Paan Singh Tomar is a Hindi-language film  bas...</td>\n",
       "      <td>Irrfan Khan|</td>\n",
       "      <td>action biography crime paan singh tomar hindi ...</td>\n",
       "    </tr>\n",
       "    <tr>\n",
       "      <th>120</th>\n",
       "      <td>tt7162758</td>\n",
       "      <td>https://upload.wikimedia.org/wikipedia/en/thum...</td>\n",
       "      <td>https://en.wikipedia.org/wiki/Paltan_(film)</td>\n",
       "      <td>Paltan</td>\n",
       "      <td>Action|Drama|History</td>\n",
       "      <td>An action-war drama based on the 1967 Nathu La...</td>\n",
       "      <td>Jackie Shroff|Arjun Rampal|Sonu Sood|Gurmeet C...</td>\n",
       "      <td>action drama history action war drama base nat...</td>\n",
       "    </tr>\n",
       "  </tbody>\n",
       "</table>\n",
       "</div>"
      ],
      "text/plain": [
       "        imdb_id                                        poster_path  \\\n",
       "157   tt6467380  https://upload.wikimedia.org/wikipedia/en/thum...   \n",
       "207   tt6080746  https://upload.wikimedia.org/wikipedia/en/thum...   \n",
       "1410  tt0382385  https://upload.wikimedia.org/wikipedia/en/6/60...   \n",
       "633   tt1620933  https://upload.wikimedia.org/wikipedia/en/thum...   \n",
       "120   tt7162758  https://upload.wikimedia.org/wikipedia/en/thum...   \n",
       "\n",
       "                                              wiki_link  \\\n",
       "157   https://en.wikipedia.org/wiki/Hind_Ka_Napak_Ko...   \n",
       "207              https://en.wikipedia.org/wiki/Raagdesh   \n",
       "1410   https://en.wikipedia.org/wiki/Zameen_(2003_film)   \n",
       "633   https://en.wikipedia.org/wiki/Paan_Singh_Tomar...   \n",
       "120         https://en.wikipedia.org/wiki/Paltan_(film)   \n",
       "\n",
       "              original_title                     genres  \\\n",
       "157   Hind Ka Napak Ko Jawab              Action|Comedy   \n",
       "207                Raag Desh       Action|Drama|History   \n",
       "1410                  Zameen  Action|Adventure|Thriller   \n",
       "633         Paan Singh Tomar     Action|Biography|Crime   \n",
       "120                   Paltan       Action|Drama|History   \n",
       "\n",
       "                                                  story  \\\n",
       "157   The Father Daughter duo of Saint Dr. Gurmeet R...   \n",
       "207   A period film based on the historic 1945 India...   \n",
       "1410  Islamic terrorists  backed by Pakistan  boldly...   \n",
       "633   Paan Singh Tomar is a Hindi-language film  bas...   \n",
       "120   An action-war drama based on the 1967 Nathu La...   \n",
       "\n",
       "                                                 actors  \\\n",
       "157           Gurmeet Ram Rahim Singh|Honeypreet Insan|   \n",
       "207   Kunal Kapoor|Amit Sadh|Mohit Marwah|Kenneth De...   \n",
       "1410  Ajay Devgn|Abhishek Bachchan|Bipasha Basu|Muke...   \n",
       "633                                        Irrfan Khan|   \n",
       "120   Jackie Shroff|Arjun Rampal|Sonu Sood|Gurmeet C...   \n",
       "\n",
       "                                                   tags  \n",
       "157   action comedy father daughter duo saint dr gur...  \n",
       "207   action drama history period film base historic...  \n",
       "1410  action adventure thriller islamic terrorist ba...  \n",
       "633   action biography crime paan singh tomar hindi ...  \n",
       "120   action drama history action war drama base nat...  "
      ]
     },
     "execution_count": 81,
     "metadata": {},
     "output_type": "execute_result"
    }
   ],
   "source": [
    "return_top5_df(df_movie[df_movie['original_title'] == 'Soni'].index[0])"
   ]
  },
  {
   "cell_type": "code",
   "execution_count": 140,
   "id": "ec025b06",
   "metadata": {},
   "outputs": [
    {
     "data": {
      "text/html": [
       "<div>\n",
       "<style scoped>\n",
       "    .dataframe tbody tr th:only-of-type {\n",
       "        vertical-align: middle;\n",
       "    }\n",
       "\n",
       "    .dataframe tbody tr th {\n",
       "        vertical-align: top;\n",
       "    }\n",
       "\n",
       "    .dataframe thead th {\n",
       "        text-align: right;\n",
       "    }\n",
       "</style>\n",
       "<table border=\"1\" class=\"dataframe\">\n",
       "  <thead>\n",
       "    <tr style=\"text-align: right;\">\n",
       "      <th></th>\n",
       "      <th>imdb_id</th>\n",
       "      <th>poster_path</th>\n",
       "      <th>wiki_link</th>\n",
       "      <th>title_y</th>\n",
       "      <th>genres</th>\n",
       "      <th>story</th>\n",
       "      <th>summary</th>\n",
       "      <th>actors</th>\n",
       "      <th>tags</th>\n",
       "    </tr>\n",
       "  </thead>\n",
       "  <tbody>\n",
       "    <tr>\n",
       "      <th>2</th>\n",
       "      <td>tt8108208</td>\n",
       "      <td>https://upload.wikimedia.org/wikipedia/en/thum...</td>\n",
       "      <td>https://en.wikipedia.org/wiki/Why_Cheat_India</td>\n",
       "      <td>Why Cheat India</td>\n",
       "      <td>Crime|Drama</td>\n",
       "      <td>The movie focuses on existing malpractices in ...</td>\n",
       "      <td>The movie focuses on existing malpractices in ...</td>\n",
       "      <td>Emraan Hashmi|Shreya Dhanwanthary|Snighdadeep ...</td>\n",
       "      <td>crime drama movie focus exist malpractice coun...</td>\n",
       "    </tr>\n",
       "    <tr>\n",
       "      <th>3</th>\n",
       "      <td>tt6078866</td>\n",
       "      <td>https://upload.wikimedia.org/wikipedia/en/thum...</td>\n",
       "      <td>https://en.wikipedia.org/wiki/Soni_(film)</td>\n",
       "      <td>Soni</td>\n",
       "      <td>Drama</td>\n",
       "      <td>Soni  a young policewoman in Delhi  and her su...</td>\n",
       "      <td>While fighting crimes against women in Delhi  ...</td>\n",
       "      <td>Geetika Vidya Ohlyan|Saloni Batra|Vikas Shukla...</td>\n",
       "      <td>drama fight crime woman delhi short fuse polic...</td>\n",
       "    </tr>\n",
       "  </tbody>\n",
       "</table>\n",
       "</div>"
      ],
      "text/plain": [
       "     imdb_id                                        poster_path  \\\n",
       "2  tt8108208  https://upload.wikimedia.org/wikipedia/en/thum...   \n",
       "3  tt6078866  https://upload.wikimedia.org/wikipedia/en/thum...   \n",
       "\n",
       "                                       wiki_link          title_y  \\\n",
       "2  https://en.wikipedia.org/wiki/Why_Cheat_India  Why Cheat India   \n",
       "3      https://en.wikipedia.org/wiki/Soni_(film)             Soni   \n",
       "\n",
       "        genres                                              story  \\\n",
       "2  Crime|Drama  The movie focuses on existing malpractices in ...   \n",
       "3        Drama  Soni  a young policewoman in Delhi  and her su...   \n",
       "\n",
       "                                             summary  \\\n",
       "2  The movie focuses on existing malpractices in ...   \n",
       "3  While fighting crimes against women in Delhi  ...   \n",
       "\n",
       "                                              actors  \\\n",
       "2  Emraan Hashmi|Shreya Dhanwanthary|Snighdadeep ...   \n",
       "3  Geetika Vidya Ohlyan|Saloni Batra|Vikas Shukla...   \n",
       "\n",
       "                                                tags  \n",
       "2  crime drama movie focus exist malpractice coun...  \n",
       "3  drama fight crime woman delhi short fuse polic...  "
      ]
     },
     "execution_count": 140,
     "metadata": {},
     "output_type": "execute_result"
    }
   ],
   "source": [
    "df_movie.iloc[[2,3],:]"
   ]
  },
  {
   "cell_type": "code",
   "execution_count": 141,
   "id": "76f13830",
   "metadata": {},
   "outputs": [
    {
     "data": {
      "text/plain": [
       "[(1270, 0.3265986323710905),\n",
       " (120, 0.2921186973360886),\n",
       " (207, 0.28284271247461906),\n",
       " (1563, 0.2618614682831909),\n",
       " (99, 0.25021729686848976)]"
      ]
     },
     "execution_count": 141,
     "metadata": {},
     "output_type": "execute_result"
    }
   ],
   "source": [
    "sorted(list(enumerate(similarity[0])), key=lambda x : x[1], reverse=True)[1:6]"
   ]
  },
  {
   "cell_type": "code",
   "execution_count": 142,
   "id": "56c5f399",
   "metadata": {},
   "outputs": [
    {
     "data": {
      "text/plain": [
       "[(1270, 0.3265986323710905),\n",
       " (120, 0.2921186973360886),\n",
       " (207, 0.28284271247461906),\n",
       " (1563, 0.2618614682831909),\n",
       " (99, 0.25021729686848976)]"
      ]
     },
     "execution_count": 142,
     "metadata": {},
     "output_type": "execute_result"
    }
   ],
   "source": [
    "sorted(list(enumerate(similarity[0])), key=lambda x : x[1], reverse=True)[1:6]"
   ]
  },
  {
   "cell_type": "code",
   "execution_count": 143,
   "id": "76025050",
   "metadata": {},
   "outputs": [
    {
     "data": {
      "text/plain": [
       "0         Uri: The Surgical Strike\n",
       "1    The Accidental Prime Minister\n",
       "2                  Why Cheat India\n",
       "3                             Soni\n",
       "4                    Fraud Saiyaan\n",
       "Name: title_y, dtype: object"
      ]
     },
     "execution_count": 143,
     "metadata": {},
     "output_type": "execute_result"
    }
   ],
   "source": [
    "df_movie['title_y'][:5]"
   ]
  },
  {
   "cell_type": "code",
   "execution_count": 175,
   "id": "e3c975d5",
   "metadata": {},
   "outputs": [
    {
     "data": {
      "text/html": [
       "<div>\n",
       "<style scoped>\n",
       "    .dataframe tbody tr th:only-of-type {\n",
       "        vertical-align: middle;\n",
       "    }\n",
       "\n",
       "    .dataframe tbody tr th {\n",
       "        vertical-align: top;\n",
       "    }\n",
       "\n",
       "    .dataframe thead th {\n",
       "        text-align: right;\n",
       "    }\n",
       "</style>\n",
       "<table border=\"1\" class=\"dataframe\">\n",
       "  <thead>\n",
       "    <tr style=\"text-align: right;\">\n",
       "      <th></th>\n",
       "      <th>poster_path</th>\n",
       "      <th>wiki_link</th>\n",
       "      <th>original_title</th>\n",
       "      <th>genres</th>\n",
       "      <th>imdb_rating</th>\n",
       "      <th>imdb_votes</th>\n",
       "      <th>story</th>\n",
       "      <th>summary</th>\n",
       "      <th>actors</th>\n",
       "      <th>rating_txt</th>\n",
       "      <th>votes_txt</th>\n",
       "      <th>tags</th>\n",
       "    </tr>\n",
       "  </thead>\n",
       "  <tbody>\n",
       "    <tr>\n",
       "      <th>325</th>\n",
       "      <td>https://upload.wikimedia.org/wikipedia/en/thum...</td>\n",
       "      <td>https://en.wikipedia.org/wiki/Shivaay</td>\n",
       "      <td>Shivaay</td>\n",
       "      <td>Action|Drama|Thriller</td>\n",
       "      <td>6.2</td>\n",
       "      <td>9161.0</td>\n",
       "      <td>Shivaay is a well-known mountain climber/guide...</td>\n",
       "      <td>A skilled mountaineer races against time to re...</td>\n",
       "      <td>Ajay Devgn|Abigail Eames|Erika Kaar|Sayyeshaa ...</td>\n",
       "      <td>high_rating</td>\n",
       "      <td>very_high_votes</td>\n",
       "      <td>action drama thriller skilled mountaineer race...</td>\n",
       "    </tr>\n",
       "  </tbody>\n",
       "</table>\n",
       "</div>"
      ],
      "text/plain": [
       "                                           poster_path  \\\n",
       "325  https://upload.wikimedia.org/wikipedia/en/thum...   \n",
       "\n",
       "                                 wiki_link original_title  \\\n",
       "325  https://en.wikipedia.org/wiki/Shivaay        Shivaay   \n",
       "\n",
       "                    genres  imdb_rating  imdb_votes  \\\n",
       "325  Action|Drama|Thriller          6.2      9161.0   \n",
       "\n",
       "                                                 story  \\\n",
       "325  Shivaay is a well-known mountain climber/guide...   \n",
       "\n",
       "                                               summary  \\\n",
       "325  A skilled mountaineer races against time to re...   \n",
       "\n",
       "                                                actors   rating_txt  \\\n",
       "325  Ajay Devgn|Abigail Eames|Erika Kaar|Sayyeshaa ...  high_rating   \n",
       "\n",
       "           votes_txt                                               tags  \n",
       "325  very_high_votes  action drama thriller skilled mountaineer race...  "
      ]
     },
     "execution_count": 175,
     "metadata": {},
     "output_type": "execute_result"
    }
   ],
   "source": [
    "df_movie.sample()"
   ]
  },
  {
   "cell_type": "code",
   "execution_count": 176,
   "id": "6c6886f6",
   "metadata": {},
   "outputs": [],
   "source": [
    "df_movie[['poster_path', 'wiki_link', 'original_title', 'genres', 'story', 'summary', 'actors', 'rating_txt', 'votes_txt', 'tags']].to_csv('movie_dataset.csv' , index = False)"
   ]
  },
  {
   "cell_type": "code",
   "execution_count": null,
   "id": "0acbc610",
   "metadata": {},
   "outputs": [],
   "source": []
  }
 ],
 "metadata": {
  "kernelspec": {
   "display_name": "Python 3 (ipykernel)",
   "language": "python",
   "name": "python3"
  },
  "language_info": {
   "codemirror_mode": {
    "name": "ipython",
    "version": 3
   },
   "file_extension": ".py",
   "mimetype": "text/x-python",
   "name": "python",
   "nbconvert_exporter": "python",
   "pygments_lexer": "ipython3",
   "version": "3.9.7"
  }
 },
 "nbformat": 4,
 "nbformat_minor": 5
}
